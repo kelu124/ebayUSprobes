{
 "cells": [
  {
   "cell_type": "code",
   "execution_count": 1,
   "metadata": {},
   "outputs": [],
   "source": [
    "import pickle\n",
    "import numpy as np\n",
    "from sklearn.feature_extraction.text import TfidfVectorizer\n",
    "from sklearn.neighbors import KNeighborsClassifier\n",
    "from pprint import pprint\n",
    "from sklearn.model_selection import RandomizedSearchCV\n",
    "from sklearn.model_selection import GridSearchCV\n",
    "from sklearn.metrics import classification_report, confusion_matrix, accuracy_score\n",
    "from sklearn.model_selection import ShuffleSplit\n",
    "import matplotlib.pyplot as plt\n",
    "import seaborn as sns\n",
    "import pandas as pd"
   ]
  },
  {
   "cell_type": "code",
   "execution_count": 2,
   "metadata": {},
   "outputs": [],
   "source": [
    "pathPickle = \"Pickles\"\n",
    "path_df = pathPickle+\"/df.pickle\"\n",
    "with open(path_df, 'rb') as data:\n",
    "    df = pickle.load(data)\n",
    "\n",
    "# features_train\n",
    "path_features_train = pathPickle+\"/features_train.pickle\"\n",
    "with open(path_features_train, 'rb') as data:\n",
    "    features_train = pickle.load(data)\n",
    "\n",
    "# labels_train\n",
    "path_labels_train = pathPickle+\"/labels_train.pickle\"\n",
    "with open(path_labels_train, 'rb') as data:\n",
    "    labels_train = pickle.load(data)\n",
    "\n",
    "# features_test\n",
    "path_features_test = pathPickle+\"/features_test.pickle\"\n",
    "with open(path_features_test, 'rb') as data:\n",
    "    features_test = pickle.load(data)\n",
    "\n",
    "# labels_test\n",
    "path_labels_test = pathPickle+\"/labels_test.pickle\"\n",
    "with open(path_labels_test, 'rb') as data:\n",
    "    labels_test = pickle.load(data)"
   ]
  },
  {
   "cell_type": "code",
   "execution_count": 3,
   "metadata": {},
   "outputs": [
    {
     "name": "stdout",
     "output_type": "stream",
     "text": [
      "Parameters currently in use:\n",
      "\n",
      "{'algorithm': 'auto',\n",
      " 'leaf_size': 30,\n",
      " 'metric': 'minkowski',\n",
      " 'metric_params': None,\n",
      " 'n_jobs': None,\n",
      " 'n_neighbors': 5,\n",
      " 'p': 2,\n",
      " 'weights': 'uniform'}\n"
     ]
    }
   ],
   "source": [
    "knnc_0 =KNeighborsClassifier()\n",
    "\n",
    "print('Parameters currently in use:\\n')\n",
    "pprint(knnc_0.get_params())"
   ]
  },
  {
   "cell_type": "code",
   "execution_count": 4,
   "metadata": {},
   "outputs": [
    {
     "name": "stdout",
     "output_type": "stream",
     "text": [
      "Fitting 3 folds for each of 100 candidates, totalling 300 fits\n"
     ]
    },
    {
     "name": "stderr",
     "output_type": "stream",
     "text": [
      "[Parallel(n_jobs=1)]: Using backend SequentialBackend with 1 concurrent workers.\n",
      "[Parallel(n_jobs=1)]: Done 300 out of 300 | elapsed: 19.6min finished\n"
     ]
    },
    {
     "data": {
      "text/plain": [
       "GridSearchCV(cv=ShuffleSplit(n_splits=3, random_state=8, test_size=0.33, train_size=None),\n",
       "             error_score=nan,\n",
       "             estimator=KNeighborsClassifier(algorithm='auto', leaf_size=30,\n",
       "                                            metric='minkowski',\n",
       "                                            metric_params=None, n_jobs=None,\n",
       "                                            n_neighbors=5, p=2,\n",
       "                                            weights='uniform'),\n",
       "             iid='deprecated', n_jobs=None,\n",
       "             param_grid={'n_neighbors': [1, 6, 11, 16, 21, 26, 31, 36, 41, 46,\n",
       "                                         51, 56, 61, 66, 71, 76, 81, 86, 91, 96,\n",
       "                                         101, 106, 111, 116, 121, 127, 132, 137,\n",
       "                                         142, 147, ...]},\n",
       "             pre_dispatch='2*n_jobs', refit=True, return_train_score=False,\n",
       "             scoring='accuracy', verbose=1)"
      ]
     },
     "execution_count": 4,
     "metadata": {},
     "output_type": "execute_result"
    }
   ],
   "source": [
    "# Create the parameter grid \n",
    "n_neighbors = [int(x) for x in np.linspace(start = 1, stop = 500, num = 100)]\n",
    "\n",
    "param_grid = {'n_neighbors': n_neighbors}\n",
    "\n",
    "# Create a base model\n",
    "knnc = KNeighborsClassifier()\n",
    "\n",
    "# Manually create the splits in CV in order to be able to fix a random_state (GridSearchCV doesn't have that argument)\n",
    "cv_sets = ShuffleSplit(n_splits = 3, test_size = .33, random_state = 8)\n",
    "\n",
    "# Instantiate the grid search model\n",
    "grid_search = GridSearchCV(estimator=knnc, \n",
    "                           param_grid=param_grid,\n",
    "                           scoring='accuracy',\n",
    "                           cv=cv_sets,\n",
    "                           verbose=1)\n",
    "\n",
    "# Fit the grid search to the data\n",
    "grid_search.fit(features_train, labels_train)"
   ]
  },
  {
   "cell_type": "code",
   "execution_count": 5,
   "metadata": {},
   "outputs": [
    {
     "name": "stdout",
     "output_type": "stream",
     "text": [
      "The best hyperparameters from Grid Search are:\n",
      "{'n_neighbors': 6}\n",
      "\n",
      "The mean accuracy of a model with these hyperparameters is:\n",
      "0.8791405550581916\n"
     ]
    }
   ],
   "source": [
    "print(\"The best hyperparameters from Grid Search are:\")\n",
    "print(grid_search.best_params_)\n",
    "print(\"\")\n",
    "print(\"The mean accuracy of a model with these hyperparameters is:\")\n",
    "print(grid_search.best_score_)"
   ]
  },
  {
   "cell_type": "code",
   "execution_count": 6,
   "metadata": {},
   "outputs": [
    {
     "name": "stdout",
     "output_type": "stream",
     "text": [
      "Fitting 3 folds for each of 11 candidates, totalling 33 fits\n"
     ]
    },
    {
     "name": "stderr",
     "output_type": "stream",
     "text": [
      "[Parallel(n_jobs=1)]: Using backend SequentialBackend with 1 concurrent workers.\n",
      "[Parallel(n_jobs=1)]: Done  33 out of  33 | elapsed:  1.2min finished\n"
     ]
    },
    {
     "data": {
      "text/plain": [
       "GridSearchCV(cv=ShuffleSplit(n_splits=3, random_state=8, test_size=0.33, train_size=None),\n",
       "             error_score=nan,\n",
       "             estimator=KNeighborsClassifier(algorithm='auto', leaf_size=30,\n",
       "                                            metric='minkowski',\n",
       "                                            metric_params=None, n_jobs=None,\n",
       "                                            n_neighbors=5, p=2,\n",
       "                                            weights='uniform'),\n",
       "             iid='deprecated', n_jobs=None,\n",
       "             param_grid={'n_neighbors': [1, 2, 3, 4, 5, 6, 7, 8, 9, 10, 11]},\n",
       "             pre_dispatch='2*n_jobs', refit=True, return_train_score=False,\n",
       "             scoring='accuracy', verbose=1)"
      ]
     },
     "execution_count": 6,
     "metadata": {},
     "output_type": "execute_result"
    }
   ],
   "source": [
    "n_neighbors = [1,2,3,4,5,6,7,8,9,10,11]\n",
    "param_grid = {'n_neighbors': n_neighbors}\n",
    "\n",
    "knnc = KNeighborsClassifier()\n",
    "cv_sets = ShuffleSplit(n_splits = 3, test_size = .33, random_state = 8)\n",
    "\n",
    "grid_search = GridSearchCV(estimator=knnc, \n",
    "                           param_grid=param_grid,\n",
    "                           scoring='accuracy',\n",
    "                           cv=cv_sets,\n",
    "                           verbose=1)\n",
    "\n",
    "grid_search.fit(features_train, labels_train)"
   ]
  },
  {
   "cell_type": "code",
   "execution_count": 7,
   "metadata": {},
   "outputs": [
    {
     "name": "stdout",
     "output_type": "stream",
     "text": [
      "The best hyperparameters from Grid Search are:\n",
      "{'n_neighbors': 5}\n",
      "\n",
      "The mean accuracy of a model with these hyperparameters is:\n",
      "0.8833184124142047\n"
     ]
    }
   ],
   "source": [
    "print(\"The best hyperparameters from Grid Search are:\")\n",
    "print(grid_search.best_params_)\n",
    "print(\"\")\n",
    "print(\"The mean accuracy of a model with these hyperparameters is:\")\n",
    "print(grid_search.best_score_)"
   ]
  },
  {
   "cell_type": "code",
   "execution_count": 8,
   "metadata": {},
   "outputs": [
    {
     "data": {
      "text/plain": [
       "KNeighborsClassifier(algorithm='auto', leaf_size=30, metric='minkowski',\n",
       "                     metric_params=None, n_jobs=None, n_neighbors=5, p=2,\n",
       "                     weights='uniform')"
      ]
     },
     "execution_count": 8,
     "metadata": {},
     "output_type": "execute_result"
    }
   ],
   "source": [
    "best_knnc = grid_search.best_estimator_\n",
    "best_knnc"
   ]
  },
  {
   "cell_type": "code",
   "execution_count": 9,
   "metadata": {},
   "outputs": [
    {
     "data": {
      "text/plain": [
       "KNeighborsClassifier(algorithm='auto', leaf_size=30, metric='minkowski',\n",
       "                     metric_params=None, n_jobs=None, n_neighbors=5, p=2,\n",
       "                     weights='uniform')"
      ]
     },
     "execution_count": 9,
     "metadata": {},
     "output_type": "execute_result"
    }
   ],
   "source": [
    "best_knnc.fit(features_train, labels_train)"
   ]
  },
  {
   "cell_type": "code",
   "execution_count": 10,
   "metadata": {},
   "outputs": [],
   "source": [
    "knnc_pred = best_knnc.predict(features_test)"
   ]
  },
  {
   "cell_type": "code",
   "execution_count": 11,
   "metadata": {},
   "outputs": [
    {
     "name": "stdout",
     "output_type": "stream",
     "text": [
      "The training accuracy is: \n",
      "0.9148684599467928\n",
      "The test accuracy is: \n",
      "0.9046822742474916\n"
     ]
    }
   ],
   "source": [
    "# Training accuracy\n",
    "print(\"The training accuracy is: \")\n",
    "print(accuracy_score(labels_train, best_knnc.predict(features_train)))\n",
    "print(\"The test accuracy is: \")\n",
    "print(accuracy_score(labels_test, knnc_pred))"
   ]
  },
  {
   "cell_type": "code",
   "execution_count": 12,
   "metadata": {},
   "outputs": [
    {
     "name": "stdout",
     "output_type": "stream",
     "text": [
      "Classification report\n",
      "              precision    recall  f1-score   support\n",
      "\n",
      "           0       0.62      0.29      0.40        17\n",
      "           1       0.91      0.96      0.93       230\n",
      "           2       0.91      0.96      0.93       171\n",
      "           3       0.96      0.91      0.93        77\n",
      "           4       0.00      0.00      0.00         9\n",
      "           5       0.69      0.64      0.67        14\n",
      "           6       0.97      0.93      0.95        42\n",
      "           7       0.80      1.00      0.89         4\n",
      "           8       0.78      0.90      0.84        20\n",
      "           9       1.00      0.85      0.92        13\n",
      "          10       0.00      0.00      0.00         1\n",
      "\n",
      "    accuracy                           0.90       598\n",
      "   macro avg       0.70      0.68      0.68       598\n",
      "weighted avg       0.89      0.90      0.89       598\n",
      "\n"
     ]
    },
    {
     "name": "stderr",
     "output_type": "stream",
     "text": [
      "/home/kelu/.local/lib/python3.6/site-packages/sklearn/metrics/_classification.py:1272: UndefinedMetricWarning: Precision and F-score are ill-defined and being set to 0.0 in labels with no predicted samples. Use `zero_division` parameter to control this behavior.\n",
      "  _warn_prf(average, modifier, msg_start, len(result))\n"
     ]
    }
   ],
   "source": [
    "print(\"Classification report\")\n",
    "print(classification_report(labels_test,knnc_pred))"
   ]
  },
  {
   "cell_type": "code",
   "execution_count": 13,
   "metadata": {},
   "outputs": [
    {
     "data": {
      "image/png": "[encoded data removed]",
      "text/plain": [
       "<Figure size 921.6x432 with 2 Axes>"
      ]
     },
     "metadata": {
      "needs_background": "light"
     },
     "output_type": "display_data"
    }
   ],
   "source": [
    "aux_df = df[['group', 'Category_Code']].drop_duplicates().sort_values('Category_Code')\n",
    "conf_matrix = confusion_matrix(labels_test, knnc_pred)\n",
    "plt.figure(figsize=(12.8,6))\n",
    "sns.heatmap(conf_matrix, \n",
    "            annot=True,\n",
    "            xticklabels=aux_df['group'].values, \n",
    "            yticklabels=aux_df['group'].values,\n",
    "            cmap=\"Blues\")\n",
    "plt.ylabel('Predicted')\n",
    "plt.xlabel('Actual')\n",
    "plt.title('Confusion matrix')\n",
    "plt.show()"
   ]
  },
  {
   "cell_type": "code",
   "execution_count": 14,
   "metadata": {},
   "outputs": [
    {
     "data": {
      "text/plain": [
       "0.9046822742474916"
      ]
     },
     "execution_count": 14,
     "metadata": {},
     "output_type": "execute_result"
    }
   ],
   "source": [
    "base_model = KNeighborsClassifier()\n",
    "base_model.fit(features_train, labels_train)\n",
    "accuracy_score(labels_test, base_model.predict(features_test))"
   ]
  },
  {
   "cell_type": "code",
   "execution_count": 15,
   "metadata": {},
   "outputs": [
    {
     "data": {
      "text/plain": [
       "0.9046822742474916"
      ]
     },
     "execution_count": 15,
     "metadata": {},
     "output_type": "execute_result"
    }
   ],
   "source": [
    "best_knnc.fit(features_train, labels_train)\n",
    "accuracy_score(labels_test, best_knnc.predict(features_test))"
   ]
  },
  {
   "cell_type": "code",
   "execution_count": 16,
   "metadata": {},
   "outputs": [],
   "source": [
    "d = {\n",
    "     'Model': 'KNN',\n",
    "     'Training Set Accuracy': accuracy_score(labels_train, best_knnc.predict(features_train)),\n",
    "     'Test Set Accuracy': accuracy_score(labels_test, knnc_pred)\n",
    "}\n",
    "\n",
    "df_models_knnc = pd.DataFrame(d, index=[0])"
   ]
  },
  {
   "cell_type": "code",
   "execution_count": 17,
   "metadata": {},
   "outputs": [
    {
     "data": {
      "text/html": [
       "<div>\n",
       "<style scoped>\n",
       "    .dataframe tbody tr th:only-of-type {\n",
       "        vertical-align: middle;\n",
       "    }\n",
       "\n",
       "    .dataframe tbody tr th {\n",
       "        vertical-align: top;\n",
       "    }\n",
       "\n",
       "    .dataframe thead th {\n",
       "        text-align: right;\n",
       "    }\n",
       "</style>\n",
       "<table border=\"1\" class=\"dataframe\">\n",
       "  <thead>\n",
       "    <tr style=\"text-align: right;\">\n",
       "      <th></th>\n",
       "      <th>Model</th>\n",
       "      <th>Training Set Accuracy</th>\n",
       "      <th>Test Set Accuracy</th>\n",
       "    </tr>\n",
       "  </thead>\n",
       "  <tbody>\n",
       "    <tr>\n",
       "      <th>0</th>\n",
       "      <td>KNN</td>\n",
       "      <td>0.914868</td>\n",
       "      <td>0.904682</td>\n",
       "    </tr>\n",
       "  </tbody>\n",
       "</table>\n",
       "</div>"
      ],
      "text/plain": [
       "  Model  Training Set Accuracy  Test Set Accuracy\n",
       "0   KNN               0.914868           0.904682"
      ]
     },
     "execution_count": 17,
     "metadata": {},
     "output_type": "execute_result"
    }
   ],
   "source": [
    "df_models_knnc"
   ]
  },
  {
   "cell_type": "code",
   "execution_count": 18,
   "metadata": {},
   "outputs": [],
   "source": [
    "with open('Models/best_knnc.pickle', 'wb') as output:\n",
    "    pickle.dump(best_knnc, output)\n",
    "\n",
    "with open('Models/df_models_knnc.pickle', 'wb') as output:\n",
    "    pickle.dump(df_models_knnc, output)"
   ]
  },
  {
   "cell_type": "markdown",
   "metadata": {},
   "source": [
    "# Testing the model"
   ]
  },
  {
   "cell_type": "code",
   "execution_count": 19,
   "metadata": {},
   "outputs": [],
   "source": [
    "import pickle \n",
    "pathPickle = \"Pickles\"\n",
    "\n",
    "path_X_train = pathPickle+\"/X_train.pickle\"\n",
    "with open(path_X_train, 'rb') as data:\n",
    "    X_train = pickle.load(data)\n",
    "\n",
    "# X_test\n",
    "path_X_test = pathPickle+\"/X_test.pickle\"\n",
    "with open(path_X_test, 'rb') as data:\n",
    "    X_test = pickle.load(data)\n",
    "\n",
    "# y_train\n",
    "path_y_train = pathPickle+\"/y_train.pickle\"\n",
    "with open(path_y_train, 'rb') as data:\n",
    "    y_train = pickle.load(data)\n",
    "\n",
    "# y_test\n",
    "path_y_test = pathPickle+\"/y_test.pickle\"\n",
    "with open(path_y_test, 'rb') as data:\n",
    "    y_test = pickle.load(data)\n",
    "\n",
    "path_category_names = pathPickle+\"/category_names.pickle\"\n",
    "with open(path_category_names, 'rb') as data:\n",
    "    category_names = pickle.load(data)\n",
    "    \n",
    "with open('Models/best_knnc.pickle', 'rb') as data:\n",
    "    best_knnc = pickle.load(data)\n",
    "\n",
    "with open('Models/df_models_knnc.pickle', 'rb') as data:\n",
    "    df_models_knnc = pickle.load(data)\n",
    "    "
   ]
  },
  {
   "cell_type": "code",
   "execution_count": 20,
   "metadata": {},
   "outputs": [
    {
     "data": {
      "text/html": [
       "<div>\n",
       "<style scoped>\n",
       "    .dataframe tbody tr th:only-of-type {\n",
       "        vertical-align: middle;\n",
       "    }\n",
       "\n",
       "    .dataframe tbody tr th {\n",
       "        vertical-align: top;\n",
       "    }\n",
       "\n",
       "    .dataframe thead th {\n",
       "        text-align: right;\n",
       "    }\n",
       "</style>\n",
       "<table border=\"1\" class=\"dataframe\">\n",
       "  <thead>\n",
       "    <tr style=\"text-align: right;\">\n",
       "      <th></th>\n",
       "      <th>Title</th>\n",
       "      <th>ItemID</th>\n",
       "      <th>ViewItemURLForNaturalSearch</th>\n",
       "      <th>group</th>\n",
       "      <th>Category_Predicted</th>\n",
       "    </tr>\n",
       "  </thead>\n",
       "  <tbody>\n",
       "    <tr>\n",
       "      <th>702</th>\n",
       "      <td>category181961 YUSHI NDT Angle Beam Probe Tran...</td>\n",
       "      <td>222973001586</td>\n",
       "      <td>https://www.ebay.com/itm/YUSHI-NDT-Angle-Beam-...</td>\n",
       "      <td>None</td>\n",
       "      <td>PseudoPiezo</td>\n",
       "    </tr>\n",
       "    <tr>\n",
       "      <th>748</th>\n",
       "      <td>category184542 Mindray Z6 Ultrasound Machine W...</td>\n",
       "      <td>333533442210</td>\n",
       "      <td>https://www.ebay.com/itm/Mindray-Z6-Ultrasound...</td>\n",
       "      <td>HH</td>\n",
       "      <td>FullMachine</td>\n",
       "    </tr>\n",
       "    <tr>\n",
       "      <th>3355</th>\n",
       "      <td>category185171 B &amp; K Medical Model 1850 Ultras...</td>\n",
       "      <td>264031731255</td>\n",
       "      <td>https://www.ebay.com/itm/B-K-Medical-Model-185...</td>\n",
       "      <td>MechProbe</td>\n",
       "      <td>Array</td>\n",
       "    </tr>\n",
       "    <tr>\n",
       "      <th>3231</th>\n",
       "      <td>category46100 ATL Fuel Probe Capacitance Type ...</td>\n",
       "      <td>324065100825</td>\n",
       "      <td>https://www.ebay.com/itm/ATL-Fuel-Probe-Capaci...</td>\n",
       "      <td>NotUS</td>\n",
       "      <td>MechProbe</td>\n",
       "    </tr>\n",
       "    <tr>\n",
       "      <th>773</th>\n",
       "      <td>category181962 BRAND NEW, OLYMPUS MAGNA - MIKE...</td>\n",
       "      <td>283666491163</td>\n",
       "      <td>https://www.ebay.com/itm/BRAND-NEW-OLYMPUS-MAG...</td>\n",
       "      <td>None</td>\n",
       "      <td>Array</td>\n",
       "    </tr>\n",
       "    <tr>\n",
       "      <th>...</th>\n",
       "      <td>...</td>\n",
       "      <td>...</td>\n",
       "      <td>...</td>\n",
       "      <td>...</td>\n",
       "      <td>...</td>\n",
       "    </tr>\n",
       "    <tr>\n",
       "      <th>777</th>\n",
       "      <td>category184542 REUSABLE ATL SS ENDOCAVITY NEED...</td>\n",
       "      <td>254470029916</td>\n",
       "      <td>https://www.ebay.com/itm/REUSABLE-ATL-SS-ENDOC...</td>\n",
       "      <td>NotUS</td>\n",
       "      <td>Array</td>\n",
       "    </tr>\n",
       "    <tr>\n",
       "      <th>115</th>\n",
       "      <td>category40004 Aws Snail Wedge 45 Degree For 5/...</td>\n",
       "      <td>233448331899</td>\n",
       "      <td>https://www.ebay.com/itm/Aws-Snail-Wedge-45-De...</td>\n",
       "      <td>PiezosNDT</td>\n",
       "      <td>PseudoPiezo</td>\n",
       "    </tr>\n",
       "    <tr>\n",
       "      <th>1109</th>\n",
       "      <td>category57520 Angle Beam Transducer 5Mhz 14*14...</td>\n",
       "      <td>333465332534</td>\n",
       "      <td>https://www.ebay.com/itm/Angle-Beam-Transducer...</td>\n",
       "      <td>PiezosNDT</td>\n",
       "      <td>PseudoPiezo</td>\n",
       "    </tr>\n",
       "    <tr>\n",
       "      <th>3775</th>\n",
       "      <td>category9886 BMW G30 525d, Ultraschallsensor s...</td>\n",
       "      <td>184036312825</td>\n",
       "      <td>https://www.ebay.com/itm/BMW-G30-525d-Ultrasch...</td>\n",
       "      <td>PseudoPiezo</td>\n",
       "      <td>Cables</td>\n",
       "    </tr>\n",
       "    <tr>\n",
       "      <th>1384</th>\n",
       "      <td>category184515 Bard VB10118US Ultrasound B i o...</td>\n",
       "      <td>273505440715</td>\n",
       "      <td>https://www.ebay.com/itm/Bard-VB10118US-Ultras...</td>\n",
       "      <td>NotUS</td>\n",
       "      <td>MechProbe</td>\n",
       "    </tr>\n",
       "  </tbody>\n",
       "</table>\n",
       "<p>590 rows × 5 columns</p>\n",
       "</div>"
      ],
      "text/plain": [
       "                                                  Title        ItemID  \\\n",
       "702   category181961 YUSHI NDT Angle Beam Probe Tran...  222973001586   \n",
       "748   category184542 Mindray Z6 Ultrasound Machine W...  333533442210   \n",
       "3355  category185171 B & K Medical Model 1850 Ultras...  264031731255   \n",
       "3231  category46100 ATL Fuel Probe Capacitance Type ...  324065100825   \n",
       "773   category181962 BRAND NEW, OLYMPUS MAGNA - MIKE...  283666491163   \n",
       "...                                                 ...           ...   \n",
       "777   category184542 REUSABLE ATL SS ENDOCAVITY NEED...  254470029916   \n",
       "115   category40004 Aws Snail Wedge 45 Degree For 5/...  233448331899   \n",
       "1109  category57520 Angle Beam Transducer 5Mhz 14*14...  333465332534   \n",
       "3775  category9886 BMW G30 525d, Ultraschallsensor s...  184036312825   \n",
       "1384  category184515 Bard VB10118US Ultrasound B i o...  273505440715   \n",
       "\n",
       "                            ViewItemURLForNaturalSearch        group  \\\n",
       "702   https://www.ebay.com/itm/YUSHI-NDT-Angle-Beam-...         None   \n",
       "748   https://www.ebay.com/itm/Mindray-Z6-Ultrasound...           HH   \n",
       "3355  https://www.ebay.com/itm/B-K-Medical-Model-185...    MechProbe   \n",
       "3231  https://www.ebay.com/itm/ATL-Fuel-Probe-Capaci...        NotUS   \n",
       "773   https://www.ebay.com/itm/BRAND-NEW-OLYMPUS-MAG...         None   \n",
       "...                                                 ...          ...   \n",
       "777   https://www.ebay.com/itm/REUSABLE-ATL-SS-ENDOC...        NotUS   \n",
       "115   https://www.ebay.com/itm/Aws-Snail-Wedge-45-De...    PiezosNDT   \n",
       "1109  https://www.ebay.com/itm/Angle-Beam-Transducer...    PiezosNDT   \n",
       "3775  https://www.ebay.com/itm/BMW-G30-525d-Ultrasch...  PseudoPiezo   \n",
       "1384  https://www.ebay.com/itm/Bard-VB10118US-Ultras...        NotUS   \n",
       "\n",
       "     Category_Predicted  \n",
       "702         PseudoPiezo  \n",
       "748         FullMachine  \n",
       "3355              Array  \n",
       "3231          MechProbe  \n",
       "773               Array  \n",
       "...                 ...  \n",
       "777               Array  \n",
       "115         PseudoPiezo  \n",
       "1109        PseudoPiezo  \n",
       "3775             Cables  \n",
       "1384          MechProbe  \n",
       "\n",
       "[590 rows x 5 columns]"
      ]
     },
     "execution_count": 20,
     "metadata": {},
     "output_type": "execute_result"
    }
   ],
   "source": [
    "predictions = best_knnc.predict(features_test)\n",
    "# Indexes of the test set\n",
    "index_X_test = X_test.index\n",
    "# We get them from the original df\n",
    "df_test = df.loc[index_X_test]\n",
    "# Add the predictions\n",
    "df_test['Prediction'] = predictions\n",
    "# Clean columns\n",
    "df_test = df_test[['Title','ItemID',\"ViewItemURLForNaturalSearch\", 'group', 'Category_Code', 'Prediction']]\n",
    "# Decode\n",
    "df_test['Category_Predicted'] = df_test['Prediction']\n",
    "df_test = df_test.replace({'Category_Predicted':category_names})\n",
    "# Clean columns again\n",
    "df_test = df_test[['Title', 'ItemID',\"ViewItemURLForNaturalSearch\",'group', 'Category_Predicted']]\n",
    "# Getting differences in results\n",
    "DIFFERENCES1 = df_test[~(df_test[\"group\"] == df_test[\"Category_Predicted\"])]\n",
    "\n",
    "predictions = best_knnc.predict(features_train)\n",
    "# Indexes of the test set\n",
    "index_X_test = X_train.index\n",
    "# We get them from the original df\n",
    "df_test = df.loc[index_X_test]\n",
    "# Add the predictions\n",
    "df_test['Prediction'] = predictions\n",
    "# Clean columns\n",
    "df_test = df_test[['Title','ItemID',\"ViewItemURLForNaturalSearch\", 'group', 'Category_Code', 'Prediction']]\n",
    "# Decode\n",
    "df_test['Category_Predicted'] = df_test['Prediction']\n",
    "df_test = df_test.replace({'Category_Predicted':category_names})\n",
    "# Clean columns again\n",
    "df_test = df_test[['Title', 'ItemID',\"ViewItemURLForNaturalSearch\",'group', 'Category_Predicted']]\n",
    "# Getting differences in results\n",
    "DIFFERENCES2 = df_test[~(df_test[\"group\"] == df_test[\"Category_Predicted\"])]\n",
    "\n",
    "\n",
    "diff = pd.concat([DIFFERENCES1,DIFFERENCES2])\n",
    "diff"
   ]
  },
  {
   "cell_type": "code",
   "execution_count": null,
   "metadata": {},
   "outputs": [],
   "source": []
  }
 ],
 "metadata": {
  "kernelspec": {
   "display_name": "Python 3",
   "language": "python",
   "name": "python3"
  },
  "language_info": {
   "codemirror_mode": {
    "name": "ipython",
    "version": 3
   },
   "file_extension": ".py",
   "mimetype": "text/x-python",
   "name": "python",
   "nbconvert_exporter": "python",
   "pygments_lexer": "ipython3",
   "version": "3.6.9"
  }
 },
 "nbformat": 4,
 "nbformat_minor": 4
}
