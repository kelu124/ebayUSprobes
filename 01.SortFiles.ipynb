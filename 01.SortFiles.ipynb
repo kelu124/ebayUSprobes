{
 "cells": [
  {
   "cell_type": "code",
   "execution_count": 1,
   "metadata": {},
   "outputs": [],
   "source": [
    "import pandas as pd\n",
    "from pathlib import Path\n",
    "import glob, os\n",
    "import os.path\n",
    "\n",
    "# https://github.com/pemagrg1/text-classification"
   ]
  },
  {
   "cell_type": "code",
   "execution_count": 2,
   "metadata": {},
   "outputs": [
    {
     "name": "stdout",
     "output_type": "stream",
     "text": [
      "30819  elements\n"
     ]
    }
   ],
   "source": [
    "df = pd.read_pickle(\"./compilation_clean.pkl\")\n",
    "print(len(df),\" elements\")"
   ]
  },
  {
   "cell_type": "code",
   "execution_count": 3,
   "metadata": {},
   "outputs": [
    {
     "data": {
      "text/plain": [
       "<matplotlib.axes._subplots.AxesSubplot at 0x7f68111d3e80>"
      ]
     },
     "execution_count": 3,
     "metadata": {},
     "output_type": "execute_result"
    },
    {
     "data": {
      "image/png": "[encoded data removed]",
      "text/plain": [
       "<Figure size 432x288 with 1 Axes>"
      ]
     },
     "metadata": {
      "needs_background": "light"
     },
     "output_type": "display_data"
    }
   ],
   "source": [
    "df.Country.value_counts().plot(kind='bar')"
   ]
  },
  {
   "cell_type": "code",
   "execution_count": 4,
   "metadata": {},
   "outputs": [
    {
     "data": {
      "text/plain": [
       "<matplotlib.axes._subplots.AxesSubplot at 0x7f680eb4ee48>"
      ]
     },
     "execution_count": 4,
     "metadata": {},
     "output_type": "execute_result"
    },
    {
     "data": {
      "image/png": "[encoded data removed]",
      "text/plain": [
       "<Figure size 432x288 with 1 Axes>"
      ]
     },
     "metadata": {
      "needs_background": "light"
     },
     "output_type": "display_data"
    }
   ],
   "source": [
    "df.PrimaryCategoryID.value_counts()[:10].plot(kind='bar')"
   ]
  },
  {
   "cell_type": "code",
   "execution_count": 5,
   "metadata": {},
   "outputs": [
    {
     "data": {
      "text/plain": [
       "Index(['Description', 'EndTime', 'ViewItemURLForNaturalSearch', 'ListingType',\n",
       "       'Location', 'GalleryURL', 'PictureURL', 'PrimaryCategoryID',\n",
       "       'PrimaryCategoryName', 'BidCount', 'ListingStatus', 'TimeLeft', 'Title',\n",
       "       'Country', 'AutoPay', 'ConditionID', 'ConditionDisplayName',\n",
       "       'GlobalShipping', 'BuyItNowAvailable', 'ConvertedBuyItNowPrice',\n",
       "       'ConditionDescription', 'QuantityAvailableHint', 'QuantityThreshold',\n",
       "       '_currencyID', 'value', 'DiscountPriceInfo', 'Quantity'],\n",
       "      dtype='object')"
      ]
     },
     "execution_count": 5,
     "metadata": {},
     "output_type": "execute_result"
    }
   ],
   "source": [
    "df.keys()"
   ]
  },
  {
   "cell_type": "code",
   "execution_count": 6,
   "metadata": {},
   "outputs": [],
   "source": [
    "DFxl = df[[\"value\",\"_currencyID\",\"ViewItemURLForNaturalSearch\",\"Title\",\"PrimaryCategoryID\",\"Country\",\"Description\"]].reset_index()\n",
    "images = [os.path.join(dp, f) for dp, dn, filenames in os.walk(\"/home/kelu/ultrasound/ebaystrove/images/\") for f in filenames if os.path.splitext(f)[1] == '.jpg']\n",
    "imagesID = [x.split(\".\")[-2].split(\"/\")[-1] for x in images]\n",
    "LIMIT = len('/home/kelu/ultrasound/ebaystrove/images/233384138652.jpg')\n",
    "L = len(\"/home/kelu/ultrasound/ebaystrove/images/\")\n",
    "DFxl[\"group\"] = \"None\"\n",
    "for k in images:\n",
    "    if len(k) > (LIMIT + 1):\n",
    "        ID = k.split(\"/\")[-1].split(\".\")[-2]\n",
    "        DFxl[\"group\"].loc[DFxl.ItemID == ID] = k.split(\"/\")[-2]\n",
    "dfAll = DFxl.copy()\n",
    "DFxlNone = DFxl[(DFxl.group == \"None\")].reset_index().drop(['index'], axis=1)\n",
    "DFxl = DFxl[~(DFxl.group == \"None\")].reset_index().drop(['index'], axis=1)"
   ]
  },
  {
   "cell_type": "code",
   "execution_count": 7,
   "metadata": {},
   "outputs": [
    {
     "name": "stdout",
     "output_type": "stream",
     "text": [
      "27140\n"
     ]
    },
    {
     "data": {
      "text/html": [
       "<div>\n",
       "<style scoped>\n",
       "    .dataframe tbody tr th:only-of-type {\n",
       "        vertical-align: middle;\n",
       "    }\n",
       "\n",
       "    .dataframe tbody tr th {\n",
       "        vertical-align: top;\n",
       "    }\n",
       "\n",
       "    .dataframe thead th {\n",
       "        text-align: right;\n",
       "    }\n",
       "</style>\n",
       "<table border=\"1\" class=\"dataframe\">\n",
       "  <thead>\n",
       "    <tr style=\"text-align: right;\">\n",
       "      <th></th>\n",
       "      <th>ItemID</th>\n",
       "      <th>value</th>\n",
       "      <th>_currencyID</th>\n",
       "      <th>ViewItemURLForNaturalSearch</th>\n",
       "      <th>Title</th>\n",
       "      <th>PrimaryCategoryID</th>\n",
       "      <th>Country</th>\n",
       "      <th>Description</th>\n",
       "      <th>group</th>\n",
       "    </tr>\n",
       "  </thead>\n",
       "  <tbody>\n",
       "    <tr>\n",
       "      <th>0</th>\n",
       "      <td>184308556274</td>\n",
       "      <td>104.24</td>\n",
       "      <td>USD</td>\n",
       "      <td>https://www.ebay.com/itm/Aloka-Ultraschall-Kop...</td>\n",
       "      <td>Aloka Ultraschall Kopf  7,5  Mhz</td>\n",
       "      <td>71927</td>\n",
       "      <td>DE</td>\n",
       "      <td>Artikel im guten optischen  Zustand   Auf Grun...</td>\n",
       "      <td>Array</td>\n",
       "    </tr>\n",
       "    <tr>\n",
       "      <th>1</th>\n",
       "      <td>124203515364</td>\n",
       "      <td>700.0</td>\n",
       "      <td>USD</td>\n",
       "      <td>https://www.ebay.com/itm/Philips-L12-5-Linear-...</td>\n",
       "      <td>Philips L12-5 Linear Array Ultrasound Probe</td>\n",
       "      <td>184515</td>\n",
       "      <td>US</td>\n",
       "      <td>Philips L12-5 Linear Array Ultrasound Probe. C...</td>\n",
       "      <td>Array</td>\n",
       "    </tr>\n",
       "    <tr>\n",
       "      <th>2</th>\n",
       "      <td>293595162471</td>\n",
       "      <td>2100.0</td>\n",
       "      <td>USD</td>\n",
       "      <td>https://www.ebay.com/itm/Esaote-PA230E-Ultraso...</td>\n",
       "      <td>Esaote PA230E Ultrasound Transducer New Compat...</td>\n",
       "      <td>184515</td>\n",
       "      <td>RU</td>\n",
       "      <td>This is a Premium compatible / generic probe f...</td>\n",
       "      <td>Array</td>\n",
       "    </tr>\n",
       "    <tr>\n",
       "      <th>3</th>\n",
       "      <td>133422944246</td>\n",
       "      <td>299.0</td>\n",
       "      <td>USD</td>\n",
       "      <td>https://www.ebay.com/itm/EDAN-DUS-3-ULTRASOUND...</td>\n",
       "      <td>EDAN  DUS 3  ULTRASOUND with C361-1 transducer</td>\n",
       "      <td>100005</td>\n",
       "      <td>US</td>\n",
       "      <td>Used unit with probe.INFO REGARDING PURCHASING...</td>\n",
       "      <td>Array</td>\n",
       "    </tr>\n",
       "    <tr>\n",
       "      <th>4</th>\n",
       "      <td>224025745227</td>\n",
       "      <td>100.0</td>\n",
       "      <td>USD</td>\n",
       "      <td>https://www.ebay.com/itm/PHILIPS-15-6L-COMPACT...</td>\n",
       "      <td>PHILIPS 15-6L COMPACT LINEAR ARRAY ULTRASOUND ...</td>\n",
       "      <td>184515</td>\n",
       "      <td>US</td>\n",
       "      <td>PHILIPS 15-6L COMPACT LINEAR ARRAY ULTRASOUND ...</td>\n",
       "      <td>Array</td>\n",
       "    </tr>\n",
       "  </tbody>\n",
       "</table>\n",
       "</div>"
      ],
      "text/plain": [
       "         ItemID   value _currencyID  \\\n",
       "0  184308556274  104.24         USD   \n",
       "1  124203515364   700.0         USD   \n",
       "2  293595162471  2100.0         USD   \n",
       "3  133422944246   299.0         USD   \n",
       "4  224025745227   100.0         USD   \n",
       "\n",
       "                         ViewItemURLForNaturalSearch  \\\n",
       "0  https://www.ebay.com/itm/Aloka-Ultraschall-Kop...   \n",
       "1  https://www.ebay.com/itm/Philips-L12-5-Linear-...   \n",
       "2  https://www.ebay.com/itm/Esaote-PA230E-Ultraso...   \n",
       "3  https://www.ebay.com/itm/EDAN-DUS-3-ULTRASOUND...   \n",
       "4  https://www.ebay.com/itm/PHILIPS-15-6L-COMPACT...   \n",
       "\n",
       "                                               Title PrimaryCategoryID  \\\n",
       "0                   Aloka Ultraschall Kopf  7,5  Mhz             71927   \n",
       "1        Philips L12-5 Linear Array Ultrasound Probe            184515   \n",
       "2  Esaote PA230E Ultrasound Transducer New Compat...            184515   \n",
       "3     EDAN  DUS 3  ULTRASOUND with C361-1 transducer            100005   \n",
       "4  PHILIPS 15-6L COMPACT LINEAR ARRAY ULTRASOUND ...            184515   \n",
       "\n",
       "  Country                                        Description  group  \n",
       "0      DE  Artikel im guten optischen  Zustand   Auf Grun...  Array  \n",
       "1      US  Philips L12-5 Linear Array Ultrasound Probe. C...  Array  \n",
       "2      RU  This is a Premium compatible / generic probe f...  Array  \n",
       "3      US  Used unit with probe.INFO REGARDING PURCHASING...  Array  \n",
       "4      US  PHILIPS 15-6L COMPACT LINEAR ARRAY ULTRASOUND ...  Array  "
      ]
     },
     "execution_count": 7,
     "metadata": {},
     "output_type": "execute_result"
    }
   ],
   "source": [
    "print(len(DFxl))\n",
    "DFxl.head()"
   ]
  },
  {
   "cell_type": "code",
   "execution_count": 8,
   "metadata": {},
   "outputs": [],
   "source": [
    "import pickle \n",
    "with open('Pickles/DFNONE.pickle', 'wb') as output:\n",
    "    pickle.dump(DFxlNone, output)"
   ]
  },
  {
   "cell_type": "code",
   "execution_count": 9,
   "metadata": {},
   "outputs": [
    {
     "data": {
      "text/html": [
       "<div>\n",
       "<style scoped>\n",
       "    .dataframe tbody tr th:only-of-type {\n",
       "        vertical-align: middle;\n",
       "    }\n",
       "\n",
       "    .dataframe tbody tr th {\n",
       "        vertical-align: top;\n",
       "    }\n",
       "\n",
       "    .dataframe thead th {\n",
       "        text-align: right;\n",
       "    }\n",
       "</style>\n",
       "<table border=\"1\" class=\"dataframe\">\n",
       "  <thead>\n",
       "    <tr style=\"text-align: right;\">\n",
       "      <th></th>\n",
       "      <th>ItemID</th>\n",
       "      <th>value</th>\n",
       "      <th>_currencyID</th>\n",
       "      <th>ViewItemURLForNaturalSearch</th>\n",
       "      <th>Title</th>\n",
       "      <th>PrimaryCategoryID</th>\n",
       "      <th>Country</th>\n",
       "      <th>Description</th>\n",
       "      <th>group</th>\n",
       "    </tr>\n",
       "  </thead>\n",
       "  <tbody>\n",
       "    <tr>\n",
       "      <th>0</th>\n",
       "      <td>293595138284</td>\n",
       "      <td>1020.0</td>\n",
       "      <td>USD</td>\n",
       "      <td>https://www.ebay.com/itm/Edan-L741-Ultrasound-...</td>\n",
       "      <td>Edan L741 Ultrasound Transducer New Compatible</td>\n",
       "      <td>184515</td>\n",
       "      <td>RU</td>\n",
       "      <td>This is a Premium compatible / generic probe f...</td>\n",
       "      <td>None</td>\n",
       "    </tr>\n",
       "    <tr>\n",
       "      <th>1</th>\n",
       "      <td>293595156659</td>\n",
       "      <td>1860.0</td>\n",
       "      <td>USD</td>\n",
       "      <td>https://www.ebay.com/itm/Esaote-LA522E-Ultraso...</td>\n",
       "      <td>Esaote LA522E Ultrasound Transducer New Compat...</td>\n",
       "      <td>184515</td>\n",
       "      <td>RU</td>\n",
       "      <td>This is a Premium compatible / generic probe f...</td>\n",
       "      <td>None</td>\n",
       "    </tr>\n",
       "    <tr>\n",
       "      <th>2</th>\n",
       "      <td>293595191213</td>\n",
       "      <td>1860.0</td>\n",
       "      <td>USD</td>\n",
       "      <td>https://www.ebay.com/itm/Ge-3C-RS-Ultrasound-T...</td>\n",
       "      <td>Ge 3C-RS Ultrasound Transducer New Compatible</td>\n",
       "      <td>184515</td>\n",
       "      <td>RU</td>\n",
       "      <td>This is a Premium compatible / generic probe f...</td>\n",
       "      <td>None</td>\n",
       "    </tr>\n",
       "    <tr>\n",
       "      <th>3</th>\n",
       "      <td>293595143491</td>\n",
       "      <td>1020.0</td>\n",
       "      <td>USD</td>\n",
       "      <td>https://www.ebay.com/itm/Edan-E611-1-Ultrasoun...</td>\n",
       "      <td>Edan E611-1 Ultrasound Transducer New Compatible</td>\n",
       "      <td>184515</td>\n",
       "      <td>RU</td>\n",
       "      <td>This is a Premium compatible / generic probe f...</td>\n",
       "      <td>None</td>\n",
       "    </tr>\n",
       "    <tr>\n",
       "      <th>4</th>\n",
       "      <td>293595166924</td>\n",
       "      <td>960.0</td>\n",
       "      <td>USD</td>\n",
       "      <td>https://www.ebay.com/itm/Fukuda-FUT-CS602-5AJ-...</td>\n",
       "      <td>Fukuda FUT-CS602-5AJ Ultrasound Transducer New...</td>\n",
       "      <td>184515</td>\n",
       "      <td>RU</td>\n",
       "      <td>This is a Premium compatible / generic probe f...</td>\n",
       "      <td>None</td>\n",
       "    </tr>\n",
       "    <tr>\n",
       "      <th>...</th>\n",
       "      <td>...</td>\n",
       "      <td>...</td>\n",
       "      <td>...</td>\n",
       "      <td>...</td>\n",
       "      <td>...</td>\n",
       "      <td>...</td>\n",
       "      <td>...</td>\n",
       "      <td>...</td>\n",
       "      <td>...</td>\n",
       "    </tr>\n",
       "    <tr>\n",
       "      <th>3674</th>\n",
       "      <td>293502381198</td>\n",
       "      <td>8.04</td>\n",
       "      <td>USD</td>\n",
       "      <td>https://www.ebay.com/itm/2pcs-TMP8085AP-2-UPC-...</td>\n",
       "      <td>[2pcs] TMP8085AP-2 UPC 8-Bit 3MHz NMOS DIP40 T...</td>\n",
       "      <td>159680</td>\n",
       "      <td>PL</td>\n",
       "      <td>.belka_amber {background: #006699;filter: prog...</td>\n",
       "      <td>None</td>\n",
       "    </tr>\n",
       "    <tr>\n",
       "      <th>3675</th>\n",
       "      <td>333568410927</td>\n",
       "      <td>41.7</td>\n",
       "      <td>USD</td>\n",
       "      <td>https://www.ebay.com/itm/Pregnant-Ultrasonic-F...</td>\n",
       "      <td>Pregnant Ultrasonic Fetal Doppler 2.5MHz Probe...</td>\n",
       "      <td>117028</td>\n",
       "      <td>US</td>\n",
       "      <td>\\t\\t\\tDescription \\...</td>\n",
       "      <td>None</td>\n",
       "    </tr>\n",
       "    <tr>\n",
       "      <th>3676</th>\n",
       "      <td>202865770570</td>\n",
       "      <td>5.29</td>\n",
       "      <td>USD</td>\n",
       "      <td>https://www.ebay.com/itm/1SS315-Toshiba-Schott...</td>\n",
       "      <td>1SS315 - Toshiba Schotty Barriera Diodo - 5V,3...</td>\n",
       "      <td>11704</td>\n",
       "      <td>GB</td>\n",
       "      <td>1SS315 (TPH3, F) - Diodo barriera Toshiba Scho...</td>\n",
       "      <td>None</td>\n",
       "    </tr>\n",
       "    <tr>\n",
       "      <th>3677</th>\n",
       "      <td>274375932779</td>\n",
       "      <td>30.31</td>\n",
       "      <td>USD</td>\n",
       "      <td>https://www.ebay.com/itm/6g9q9e882ca-luftventi...</td>\n",
       "      <td>6g9q9e882ca luftventil ford galaxy (ca1) ghia ...</td>\n",
       "      <td>33548</td>\n",
       "      <td>ES</td>\n",
       "      <td>Desguaces Motocoche - Ebay   @charset \"utf-8...</td>\n",
       "      <td>None</td>\n",
       "    </tr>\n",
       "    <tr>\n",
       "      <th>3678</th>\n",
       "      <td>293591690622</td>\n",
       "      <td>1980.0</td>\n",
       "      <td>USD</td>\n",
       "      <td>https://www.ebay.com/itm/Aloka-UST-5542-Ultras...</td>\n",
       "      <td>Aloka UST-5542 Ultrasound Transducer New Compa...</td>\n",
       "      <td>184515</td>\n",
       "      <td>RU</td>\n",
       "      <td>This is a Premium compatible / generic probe f...</td>\n",
       "      <td>None</td>\n",
       "    </tr>\n",
       "  </tbody>\n",
       "</table>\n",
       "<p>3679 rows × 9 columns</p>\n",
       "</div>"
      ],
      "text/plain": [
       "            ItemID   value _currencyID  \\\n",
       "0     293595138284  1020.0         USD   \n",
       "1     293595156659  1860.0         USD   \n",
       "2     293595191213  1860.0         USD   \n",
       "3     293595143491  1020.0         USD   \n",
       "4     293595166924   960.0         USD   \n",
       "...            ...     ...         ...   \n",
       "3674  293502381198    8.04         USD   \n",
       "3675  333568410927    41.7         USD   \n",
       "3676  202865770570    5.29         USD   \n",
       "3677  274375932779   30.31         USD   \n",
       "3678  293591690622  1980.0         USD   \n",
       "\n",
       "                            ViewItemURLForNaturalSearch  \\\n",
       "0     https://www.ebay.com/itm/Edan-L741-Ultrasound-...   \n",
       "1     https://www.ebay.com/itm/Esaote-LA522E-Ultraso...   \n",
       "2     https://www.ebay.com/itm/Ge-3C-RS-Ultrasound-T...   \n",
       "3     https://www.ebay.com/itm/Edan-E611-1-Ultrasoun...   \n",
       "4     https://www.ebay.com/itm/Fukuda-FUT-CS602-5AJ-...   \n",
       "...                                                 ...   \n",
       "3674  https://www.ebay.com/itm/2pcs-TMP8085AP-2-UPC-...   \n",
       "3675  https://www.ebay.com/itm/Pregnant-Ultrasonic-F...   \n",
       "3676  https://www.ebay.com/itm/1SS315-Toshiba-Schott...   \n",
       "3677  https://www.ebay.com/itm/6g9q9e882ca-luftventi...   \n",
       "3678  https://www.ebay.com/itm/Aloka-UST-5542-Ultras...   \n",
       "\n",
       "                                                  Title PrimaryCategoryID  \\\n",
       "0        Edan L741 Ultrasound Transducer New Compatible            184515   \n",
       "1     Esaote LA522E Ultrasound Transducer New Compat...            184515   \n",
       "2         Ge 3C-RS Ultrasound Transducer New Compatible            184515   \n",
       "3      Edan E611-1 Ultrasound Transducer New Compatible            184515   \n",
       "4     Fukuda FUT-CS602-5AJ Ultrasound Transducer New...            184515   \n",
       "...                                                 ...               ...   \n",
       "3674  [2pcs] TMP8085AP-2 UPC 8-Bit 3MHz NMOS DIP40 T...            159680   \n",
       "3675  Pregnant Ultrasonic Fetal Doppler 2.5MHz Probe...            117028   \n",
       "3676  1SS315 - Toshiba Schotty Barriera Diodo - 5V,3...             11704   \n",
       "3677  6g9q9e882ca luftventil ford galaxy (ca1) ghia ...             33548   \n",
       "3678  Aloka UST-5542 Ultrasound Transducer New Compa...            184515   \n",
       "\n",
       "     Country                                        Description group  \n",
       "0         RU  This is a Premium compatible / generic probe f...  None  \n",
       "1         RU  This is a Premium compatible / generic probe f...  None  \n",
       "2         RU  This is a Premium compatible / generic probe f...  None  \n",
       "3         RU  This is a Premium compatible / generic probe f...  None  \n",
       "4         RU  This is a Premium compatible / generic probe f...  None  \n",
       "...      ...                                                ...   ...  \n",
       "3674      PL  .belka_amber {background: #006699;filter: prog...  None  \n",
       "3675      US                             \\t\\t\\tDescription \\...  None  \n",
       "3676      GB  1SS315 (TPH3, F) - Diodo barriera Toshiba Scho...  None  \n",
       "3677      ES    Desguaces Motocoche - Ebay   @charset \"utf-8...  None  \n",
       "3678      RU  This is a Premium compatible / generic probe f...  None  \n",
       "\n",
       "[3679 rows x 9 columns]"
      ]
     },
     "execution_count": 9,
     "metadata": {},
     "output_type": "execute_result"
    }
   ],
   "source": [
    "DFxlNone"
   ]
  },
  {
   "cell_type": "markdown",
   "metadata": {},
   "source": [
    "# Saving actual, stored data"
   ]
  },
  {
   "cell_type": "code",
   "execution_count": 10,
   "metadata": {},
   "outputs": [],
   "source": [
    "DFxl.to_excel(\"learning.xlsx\", sheet_name='learning') \n"
   ]
  },
  {
   "cell_type": "code",
   "execution_count": null,
   "metadata": {},
   "outputs": [],
   "source": []
  },
  {
   "cell_type": "code",
   "execution_count": 11,
   "metadata": {},
   "outputs": [],
   "source": [
    "dfAll.to_excel(\"dfAll.xlsx\", sheet_name='dfAll') "
   ]
  },
  {
   "cell_type": "code",
   "execution_count": null,
   "metadata": {},
   "outputs": [],
   "source": []
  }
 ],
 "metadata": {
  "kernelspec": {
   "display_name": "Python 3",
   "language": "python",
   "name": "python3"
  },
  "language_info": {
   "codemirror_mode": {
    "name": "ipython",
    "version": 3
   },
   "file_extension": ".py",
   "mimetype": "text/x-python",
   "name": "python",
   "nbconvert_exporter": "python",
   "pygments_lexer": "ipython3",
   "version": "3.6.9"
  }
 },
 "nbformat": 4,
 "nbformat_minor": 4
}
