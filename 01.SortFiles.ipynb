{
 "cells": [
  {
   "cell_type": "code",
   "execution_count": 65,
   "metadata": {},
   "outputs": [],
   "source": [
    "import pandas as pd\n",
    "from pathlib import Path\n",
    "import glob, os\n",
    "import os.path\n",
    "\n",
    "# https://github.com/pemagrg1/text-classification"
   ]
  },
  {
   "cell_type": "code",
   "execution_count": 75,
   "metadata": {},
   "outputs": [
    {
     "name": "stdout",
     "output_type": "stream",
     "text": [
      "4969  elements\n"
     ]
    }
   ],
   "source": [
    "df = pd.read_pickle(\"./compilation_clean.pkl\")\n",
    "print(len(df),\" elements\")"
   ]
  },
  {
   "cell_type": "code",
   "execution_count": 76,
   "metadata": {},
   "outputs": [
    {
     "data": {
      "text/plain": [
       "<matplotlib.axes._subplots.AxesSubplot at 0x7f170e939198>"
      ]
     },
     "execution_count": 76,
     "metadata": {},
     "output_type": "execute_result"
    },
    {
     "data": {
      "image/png": "[encoded data removed]",
      "text/plain": [
       "<Figure size 432x288 with 1 Axes>"
      ]
     },
     "metadata": {
      "needs_background": "light"
     },
     "output_type": "display_data"
    }
   ],
   "source": [
    "df.Country.value_counts().plot(kind='bar')"
   ]
  },
  {
   "cell_type": "code",
   "execution_count": 77,
   "metadata": {},
   "outputs": [
    {
     "data": {
      "text/plain": [
       "<matplotlib.axes._subplots.AxesSubplot at 0x7f170f6f98d0>"
      ]
     },
     "execution_count": 77,
     "metadata": {},
     "output_type": "execute_result"
    },
    {
     "data": {
      "image/png": "[encoded data removed]",
      "text/plain": [
       "<Figure size 432x288 with 1 Axes>"
      ]
     },
     "metadata": {
      "needs_background": "light"
     },
     "output_type": "display_data"
    }
   ],
   "source": [
    "df.value.value_counts().hist()"
   ]
  },
  {
   "cell_type": "code",
   "execution_count": 78,
   "metadata": {},
   "outputs": [
    {
     "data": {
      "text/plain": [
       "<matplotlib.axes._subplots.AxesSubplot at 0x7f170e98a0b8>"
      ]
     },
     "execution_count": 78,
     "metadata": {},
     "output_type": "execute_result"
    },
    {
     "data": {
      "image/png": "[encoded data removed]",
      "text/plain": [
       "<Figure size 432x288 with 1 Axes>"
      ]
     },
     "metadata": {
      "needs_background": "light"
     },
     "output_type": "display_data"
    }
   ],
   "source": [
    "df.PrimaryCategoryID.value_counts()[:10].plot(kind='bar')"
   ]
  },
  {
   "cell_type": "code",
   "execution_count": 79,
   "metadata": {},
   "outputs": [],
   "source": [
    "DFxl = df[[\"value\",\"_currencyID\",\"ViewItemURLForNaturalSearch\",\"Title\",\"PrimaryCategoryID\",\"Country\",\"Description\"]].reset_index()\n",
    "images = [os.path.join(dp, f) for dp, dn, filenames in os.walk(\"/home/kelu/ultrasound/ebaystrove/images/\") for f in filenames if os.path.splitext(f)[1] == '.jpg']\n",
    "imagesID = [x.split(\".\")[-2].split(\"/\")[-1] for x in images]\n",
    "LIMIT = len('/home/kelu/ultrasound/ebaystrove/images/233384138652.jpg')\n",
    "L = len(\"/home/kelu/ultrasound/ebaystrove/images/\")\n",
    "DFxl[\"group\"] = \"None\"\n",
    "for k in images:\n",
    "    if len(k) > (LIMIT + 1):\n",
    "        ID = k.split(\"/\")[-1].split(\".\")[-2]\n",
    "        DFxl[\"group\"].loc[DFxl.ItemID == ID] = k.split(\"/\")[-2]\n",
    "DFxlNone = DFxl[(DFxl.group == \"None\")].reset_index().drop(['index'], axis=1)\n",
    "DFxl = DFxl[~(DFxl.group == \"None\")].reset_index().drop(['index'], axis=1)"
   ]
  },
  {
   "cell_type": "code",
   "execution_count": 80,
   "metadata": {},
   "outputs": [
    {
     "name": "stdout",
     "output_type": "stream",
     "text": [
      "4649\n"
     ]
    },
    {
     "data": {
      "text/html": [
       "<div>\n",
       "<style scoped>\n",
       "    .dataframe tbody tr th:only-of-type {\n",
       "        vertical-align: middle;\n",
       "    }\n",
       "\n",
       "    .dataframe tbody tr th {\n",
       "        vertical-align: top;\n",
       "    }\n",
       "\n",
       "    .dataframe thead th {\n",
       "        text-align: right;\n",
       "    }\n",
       "</style>\n",
       "<table border=\"1\" class=\"dataframe\">\n",
       "  <thead>\n",
       "    <tr style=\"text-align: right;\">\n",
       "      <th></th>\n",
       "      <th>ItemID</th>\n",
       "      <th>value</th>\n",
       "      <th>_currencyID</th>\n",
       "      <th>ViewItemURLForNaturalSearch</th>\n",
       "      <th>Title</th>\n",
       "      <th>PrimaryCategoryID</th>\n",
       "      <th>Country</th>\n",
       "      <th>Description</th>\n",
       "      <th>group</th>\n",
       "    </tr>\n",
       "  </thead>\n",
       "  <tbody>\n",
       "    <tr>\n",
       "      <th>0</th>\n",
       "      <td>132529667929</td>\n",
       "      <td>164.77</td>\n",
       "      <td>USD</td>\n",
       "      <td>https://www.ebay.com/itm/Philips-ATL-Dio-Stift...</td>\n",
       "      <td>Philips ATL Dio Stiftsonde CW Doppler Pencil P...</td>\n",
       "      <td>71927</td>\n",
       "      <td>DE</td>\n",
       "      <td>Philips ATL Dio Stiftsonde CW 3.2 MM  ...</td>\n",
       "      <td>MechProbe</td>\n",
       "    </tr>\n",
       "    <tr>\n",
       "      <th>1</th>\n",
       "      <td>112314171710</td>\n",
       "      <td>326.79</td>\n",
       "      <td>USD</td>\n",
       "      <td>https://www.ebay.com/itm/Kretz-Endovaginal-5-0...</td>\n",
       "      <td>Kretz Endovaginal 5.0 MHz  E.V 48 HD Ultrascha...</td>\n",
       "      <td>71927</td>\n",
       "      <td>DE</td>\n",
       "      <td>Kretz Endovaginalsonde 5.0 MHz, Typ: E. V 48 H...</td>\n",
       "      <td>Array</td>\n",
       "    </tr>\n",
       "    <tr>\n",
       "      <th>2</th>\n",
       "      <td>372840599500</td>\n",
       "      <td>24.92</td>\n",
       "      <td>USD</td>\n",
       "      <td>https://www.ebay.com/itm/MOSKVICH-21412-1-6-80...</td>\n",
       "      <td>FOR MOSKVICH 21412 1.6 80HP -97 NEW GATES THER...</td>\n",
       "      <td>63711</td>\n",
       "      <td>GB</td>\n",
       "      <td>A to Z Motor Spares (Wakefield)   Step1. C...</td>\n",
       "      <td>NotUS</td>\n",
       "    </tr>\n",
       "    <tr>\n",
       "      <th>3</th>\n",
       "      <td>324091756506</td>\n",
       "      <td>1745.82</td>\n",
       "      <td>USD</td>\n",
       "      <td>https://www.ebay.com/itm/GE-546L-Ultrasound-Pr...</td>\n",
       "      <td>GE 546L Ultrasound Probe / Transducer</td>\n",
       "      <td>184515</td>\n",
       "      <td>US</td>\n",
       "      <td>546L transducerCompatible SystemsGE 546L line...</td>\n",
       "      <td>Array</td>\n",
       "    </tr>\n",
       "    <tr>\n",
       "      <th>4</th>\n",
       "      <td>173300186560</td>\n",
       "      <td>19.25</td>\n",
       "      <td>USD</td>\n",
       "      <td>https://www.ebay.com/itm/Comline-Front-Right-S...</td>\n",
       "      <td>Comline Front Right Stabiliser Link Bar CSL604...</td>\n",
       "      <td>33592</td>\n",
       "      <td>GB</td>\n",
       "      <td>Comline Stabiliser Link BarIn order to check t...</td>\n",
       "      <td>NotUS</td>\n",
       "    </tr>\n",
       "  </tbody>\n",
       "</table>\n",
       "</div>"
      ],
      "text/plain": [
       "         ItemID    value _currencyID  \\\n",
       "0  132529667929   164.77         USD   \n",
       "1  112314171710   326.79         USD   \n",
       "2  372840599500    24.92         USD   \n",
       "3  324091756506  1745.82         USD   \n",
       "4  173300186560    19.25         USD   \n",
       "\n",
       "                         ViewItemURLForNaturalSearch  \\\n",
       "0  https://www.ebay.com/itm/Philips-ATL-Dio-Stift...   \n",
       "1  https://www.ebay.com/itm/Kretz-Endovaginal-5-0...   \n",
       "2  https://www.ebay.com/itm/MOSKVICH-21412-1-6-80...   \n",
       "3  https://www.ebay.com/itm/GE-546L-Ultrasound-Pr...   \n",
       "4  https://www.ebay.com/itm/Comline-Front-Right-S...   \n",
       "\n",
       "                                               Title PrimaryCategoryID  \\\n",
       "0  Philips ATL Dio Stiftsonde CW Doppler Pencil P...             71927   \n",
       "1  Kretz Endovaginal 5.0 MHz  E.V 48 HD Ultrascha...             71927   \n",
       "2  FOR MOSKVICH 21412 1.6 80HP -97 NEW GATES THER...             63711   \n",
       "3              GE 546L Ultrasound Probe / Transducer            184515   \n",
       "4  Comline Front Right Stabiliser Link Bar CSL604...             33592   \n",
       "\n",
       "  Country                                        Description      group  \n",
       "0      DE          Philips ATL Dio Stiftsonde CW 3.2 MM  ...  MechProbe  \n",
       "1      DE  Kretz Endovaginalsonde 5.0 MHz, Typ: E. V 48 H...      Array  \n",
       "2      GB      A to Z Motor Spares (Wakefield)   Step1. C...      NotUS  \n",
       "3      US   546L transducerCompatible SystemsGE 546L line...      Array  \n",
       "4      GB  Comline Stabiliser Link BarIn order to check t...      NotUS  "
      ]
     },
     "execution_count": 80,
     "metadata": {},
     "output_type": "execute_result"
    }
   ],
   "source": [
    "print(len(DFxl))\n",
    "DFxl.head()"
   ]
  },
  {
   "cell_type": "code",
   "execution_count": 81,
   "metadata": {},
   "outputs": [],
   "source": [
    "DFxl.to_excel(\"learning.xlsx\", sheet_name='learning') \n"
   ]
  },
  {
   "cell_type": "code",
   "execution_count": 82,
   "metadata": {},
   "outputs": [],
   "source": [
    "import pickle \n",
    "with open('Pickles/DFNONE.pickle', 'wb') as output:\n",
    "    pickle.dump(DFxlNone, output)"
   ]
  },
  {
   "cell_type": "code",
   "execution_count": 83,
   "metadata": {},
   "outputs": [
    {
     "data": {
      "text/html": [
       "<div>\n",
       "<style scoped>\n",
       "    .dataframe tbody tr th:only-of-type {\n",
       "        vertical-align: middle;\n",
       "    }\n",
       "\n",
       "    .dataframe tbody tr th {\n",
       "        vertical-align: top;\n",
       "    }\n",
       "\n",
       "    .dataframe thead th {\n",
       "        text-align: right;\n",
       "    }\n",
       "</style>\n",
       "<table border=\"1\" class=\"dataframe\">\n",
       "  <thead>\n",
       "    <tr style=\"text-align: right;\">\n",
       "      <th></th>\n",
       "      <th>ItemID</th>\n",
       "      <th>value</th>\n",
       "      <th>_currencyID</th>\n",
       "      <th>ViewItemURLForNaturalSearch</th>\n",
       "      <th>Title</th>\n",
       "      <th>PrimaryCategoryID</th>\n",
       "      <th>Country</th>\n",
       "      <th>Description</th>\n",
       "      <th>group</th>\n",
       "    </tr>\n",
       "  </thead>\n",
       "  <tbody>\n",
       "    <tr>\n",
       "      <th>0</th>\n",
       "      <td>254459167401</td>\n",
       "      <td>1999.0</td>\n",
       "      <td>USD</td>\n",
       "      <td>https://www.ebay.com/itm/Olympus-Sonic-1200S-U...</td>\n",
       "      <td>Olympus Sonic 1200S Ultrasonic Flaw Detector -...</td>\n",
       "      <td>181989</td>\n",
       "      <td>US</td>\n",
       "      <td>Ultrasonic Flaw DetectorStock #191108NIncluded...</td>\n",
       "      <td>None</td>\n",
       "    </tr>\n",
       "    <tr>\n",
       "      <th>1</th>\n",
       "      <td>202930278041</td>\n",
       "      <td>150.0</td>\n",
       "      <td>USD</td>\n",
       "      <td>https://www.ebay.com/itm/ATL-C8-5-Pediatric-Co...</td>\n",
       "      <td>ATL C8-5 Pediatric Convex Array 14R Ultrasound...</td>\n",
       "      <td>184515</td>\n",
       "      <td>US</td>\n",
       "      <td>ATL C8-5 Pediatric Convex Array 14R Ultrasound...</td>\n",
       "      <td>None</td>\n",
       "    </tr>\n",
       "    <tr>\n",
       "      <th>2</th>\n",
       "      <td>223940838919</td>\n",
       "      <td>70.0</td>\n",
       "      <td>USD</td>\n",
       "      <td>https://www.ebay.com/itm/1-mhz-transducer-head...</td>\n",
       "      <td>1 mhz transducer head for ultrasound new Ultra...</td>\n",
       "      <td>185246</td>\n",
       "      <td>IN</td>\n",
       "      <td>ULTRASOUND THERAPY NEW 1 MHZ TRANSDUCER/HEAD F...</td>\n",
       "      <td>None</td>\n",
       "    </tr>\n",
       "    <tr>\n",
       "      <th>3</th>\n",
       "      <td>392720511035</td>\n",
       "      <td>759.0</td>\n",
       "      <td>USD</td>\n",
       "      <td>https://www.ebay.com/itm/Carejoy-Portable-Vete...</td>\n",
       "      <td>Carejoy Portable Veterinary WristScan Machine ...</td>\n",
       "      <td>184515</td>\n",
       "      <td>US</td>\n",
       "      <td>.dc-dock{position:absolute;width:35px;height:2...</td>\n",
       "      <td>None</td>\n",
       "    </tr>\n",
       "    <tr>\n",
       "      <th>4</th>\n",
       "      <td>333540657963</td>\n",
       "      <td>25.0</td>\n",
       "      <td>USD</td>\n",
       "      <td>https://www.ebay.com/itm/Toshiba-PC-20M-transd...</td>\n",
       "      <td>Toshiba PC-20M transducer ultrasound probe</td>\n",
       "      <td>184515</td>\n",
       "      <td>US</td>\n",
       "      <td>Toshiba PC-20M transducer ultrasound probe. Co...</td>\n",
       "      <td>None</td>\n",
       "    </tr>\n",
       "    <tr>\n",
       "      <th>...</th>\n",
       "      <td>...</td>\n",
       "      <td>...</td>\n",
       "      <td>...</td>\n",
       "      <td>...</td>\n",
       "      <td>...</td>\n",
       "      <td>...</td>\n",
       "      <td>...</td>\n",
       "      <td>...</td>\n",
       "      <td>...</td>\n",
       "    </tr>\n",
       "    <tr>\n",
       "      <th>315</th>\n",
       "      <td>114145101439</td>\n",
       "      <td>889.0</td>\n",
       "      <td>USD</td>\n",
       "      <td>https://www.ebay.com/itm/Portable-Veterinary-U...</td>\n",
       "      <td>Portable Veterinary Ultrasound scanner noteboo...</td>\n",
       "      <td>184542</td>\n",
       "      <td>US</td>\n",
       "      <td>Click images to enlarg...</td>\n",
       "      <td>None</td>\n",
       "    </tr>\n",
       "    <tr>\n",
       "      <th>316</th>\n",
       "      <td>133356402902</td>\n",
       "      <td>500.0</td>\n",
       "      <td>USD</td>\n",
       "      <td>https://www.ebay.com/itm/GE-Ultrasound-Transdu...</td>\n",
       "      <td>GE Ultrasound Transducer Probe 4C Convex for L...</td>\n",
       "      <td>184515</td>\n",
       "      <td>US</td>\n",
       "      <td>GE Ultrasound Transducer Probe 4C Convex for L...</td>\n",
       "      <td>None</td>\n",
       "    </tr>\n",
       "    <tr>\n",
       "      <th>317</th>\n",
       "      <td>323731532542</td>\n",
       "      <td>759.0</td>\n",
       "      <td>USD</td>\n",
       "      <td>https://www.ebay.com/itm/Full-Ultrasound-Scann...</td>\n",
       "      <td>Full Ultrasound Scanner Machine Handscan &amp; Pro...</td>\n",
       "      <td>184515</td>\n",
       "      <td>US</td>\n",
       "      <td>.dc-dock{position:absolute;width:35px;height:2...</td>\n",
       "      <td>None</td>\n",
       "    </tr>\n",
       "    <tr>\n",
       "      <th>318</th>\n",
       "      <td>333540657982</td>\n",
       "      <td>250.0</td>\n",
       "      <td>USD</td>\n",
       "      <td>https://www.ebay.com/itm/Mindray-65EC10HA-Ultr...</td>\n",
       "      <td>Mindray 65EC10HA Ultrasound Endocavity Transdu...</td>\n",
       "      <td>184515</td>\n",
       "      <td>US</td>\n",
       "      <td>Mindray 65EC10HA Ultrasound Endocavity Transdu...</td>\n",
       "      <td>None</td>\n",
       "    </tr>\n",
       "    <tr>\n",
       "      <th>319</th>\n",
       "      <td>383455417591</td>\n",
       "      <td>175.0</td>\n",
       "      <td>USD</td>\n",
       "      <td>https://www.ebay.com/itm/GE-Ultrasound-M4S-Sec...</td>\n",
       "      <td>GE Ultrasound M4S Sector Transducer Probe</td>\n",
       "      <td>184515</td>\n",
       "      <td>US</td>\n",
       "      <td>GE Ultrasound M4S Sector Transducer Probe. Con...</td>\n",
       "      <td>None</td>\n",
       "    </tr>\n",
       "  </tbody>\n",
       "</table>\n",
       "<p>320 rows × 9 columns</p>\n",
       "</div>"
      ],
      "text/plain": [
       "           ItemID   value _currencyID  \\\n",
       "0    254459167401  1999.0         USD   \n",
       "1    202930278041   150.0         USD   \n",
       "2    223940838919    70.0         USD   \n",
       "3    392720511035   759.0         USD   \n",
       "4    333540657963    25.0         USD   \n",
       "..            ...     ...         ...   \n",
       "315  114145101439   889.0         USD   \n",
       "316  133356402902   500.0         USD   \n",
       "317  323731532542   759.0         USD   \n",
       "318  333540657982   250.0         USD   \n",
       "319  383455417591   175.0         USD   \n",
       "\n",
       "                           ViewItemURLForNaturalSearch  \\\n",
       "0    https://www.ebay.com/itm/Olympus-Sonic-1200S-U...   \n",
       "1    https://www.ebay.com/itm/ATL-C8-5-Pediatric-Co...   \n",
       "2    https://www.ebay.com/itm/1-mhz-transducer-head...   \n",
       "3    https://www.ebay.com/itm/Carejoy-Portable-Vete...   \n",
       "4    https://www.ebay.com/itm/Toshiba-PC-20M-transd...   \n",
       "..                                                 ...   \n",
       "315  https://www.ebay.com/itm/Portable-Veterinary-U...   \n",
       "316  https://www.ebay.com/itm/GE-Ultrasound-Transdu...   \n",
       "317  https://www.ebay.com/itm/Full-Ultrasound-Scann...   \n",
       "318  https://www.ebay.com/itm/Mindray-65EC10HA-Ultr...   \n",
       "319  https://www.ebay.com/itm/GE-Ultrasound-M4S-Sec...   \n",
       "\n",
       "                                                 Title PrimaryCategoryID  \\\n",
       "0    Olympus Sonic 1200S Ultrasonic Flaw Detector -...            181989   \n",
       "1    ATL C8-5 Pediatric Convex Array 14R Ultrasound...            184515   \n",
       "2    1 mhz transducer head for ultrasound new Ultra...            185246   \n",
       "3    Carejoy Portable Veterinary WristScan Machine ...            184515   \n",
       "4           Toshiba PC-20M transducer ultrasound probe            184515   \n",
       "..                                                 ...               ...   \n",
       "315  Portable Veterinary Ultrasound scanner noteboo...            184542   \n",
       "316  GE Ultrasound Transducer Probe 4C Convex for L...            184515   \n",
       "317  Full Ultrasound Scanner Machine Handscan & Pro...            184515   \n",
       "318  Mindray 65EC10HA Ultrasound Endocavity Transdu...            184515   \n",
       "319          GE Ultrasound M4S Sector Transducer Probe            184515   \n",
       "\n",
       "    Country                                        Description group  \n",
       "0        US  Ultrasonic Flaw DetectorStock #191108NIncluded...  None  \n",
       "1        US  ATL C8-5 Pediatric Convex Array 14R Ultrasound...  None  \n",
       "2        IN  ULTRASOUND THERAPY NEW 1 MHZ TRANSDUCER/HEAD F...  None  \n",
       "3        US  .dc-dock{position:absolute;width:35px;height:2...  None  \n",
       "4        US  Toshiba PC-20M transducer ultrasound probe. Co...  None  \n",
       "..      ...                                                ...   ...  \n",
       "315      US                          Click images to enlarg...  None  \n",
       "316      US  GE Ultrasound Transducer Probe 4C Convex for L...  None  \n",
       "317      US  .dc-dock{position:absolute;width:35px;height:2...  None  \n",
       "318      US  Mindray 65EC10HA Ultrasound Endocavity Transdu...  None  \n",
       "319      US  GE Ultrasound M4S Sector Transducer Probe. Con...  None  \n",
       "\n",
       "[320 rows x 9 columns]"
      ]
     },
     "execution_count": 83,
     "metadata": {},
     "output_type": "execute_result"
    }
   ],
   "source": [
    "DFxlNone"
   ]
  },
  {
   "cell_type": "code",
   "execution_count": null,
   "metadata": {},
   "outputs": [],
   "source": []
  }
 ],
 "metadata": {
  "kernelspec": {
   "display_name": "Python 3",
   "language": "python",
   "name": "python3"
  },
  "language_info": {
   "codemirror_mode": {
    "name": "ipython",
    "version": 3
   },
   "file_extension": ".py",
   "mimetype": "text/x-python",
   "name": "python",
   "nbconvert_exporter": "python",
   "pygments_lexer": "ipython3",
   "version": "3.6.9"
  }
 },
 "nbformat": 4,
 "nbformat_minor": 4
}
