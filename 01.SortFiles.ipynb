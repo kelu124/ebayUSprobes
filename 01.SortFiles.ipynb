{
 "cells": [
  {
   "cell_type": "code",
   "execution_count": 84,
   "metadata": {},
   "outputs": [],
   "source": [
    "import pandas as pd\n",
    "from pathlib import Path\n",
    "import glob, os\n",
    "import os.path\n",
    "\n",
    "# https://github.com/pemagrg1/text-classification"
   ]
  },
  {
   "cell_type": "code",
   "execution_count": 85,
   "metadata": {},
   "outputs": [
    {
     "name": "stdout",
     "output_type": "stream",
     "text": [
      "6010  elements\n"
     ]
    }
   ],
   "source": [
    "df = pd.read_pickle(\"./compilation_clean.pkl\")\n",
    "print(len(df),\" elements\")"
   ]
  },
  {
   "cell_type": "code",
   "execution_count": 86,
   "metadata": {},
   "outputs": [
    {
     "data": {
      "text/plain": [
       "<matplotlib.axes._subplots.AxesSubplot at 0x7f170e2fd240>"
      ]
     },
     "execution_count": 86,
     "metadata": {},
     "output_type": "execute_result"
    },
    {
     "data": {
      "image/png": "[encoded data removed]",
      "text/plain": [
       "<Figure size 432x288 with 1 Axes>"
      ]
     },
     "metadata": {
      "needs_background": "light"
     },
     "output_type": "display_data"
    }
   ],
   "source": [
    "df.Country.value_counts().plot(kind='bar')"
   ]
  },
  {
   "cell_type": "code",
   "execution_count": 87,
   "metadata": {},
   "outputs": [
    {
     "data": {
      "text/plain": [
       "<matplotlib.axes._subplots.AxesSubplot at 0x7f1710fb2b70>"
      ]
     },
     "execution_count": 87,
     "metadata": {},
     "output_type": "execute_result"
    },
    {
     "data": {
      "image/png": "[encoded data removed]",
      "text/plain": [
       "<Figure size 432x288 with 1 Axes>"
      ]
     },
     "metadata": {
      "needs_background": "light"
     },
     "output_type": "display_data"
    }
   ],
   "source": [
    "df.value.value_counts().hist()"
   ]
  },
  {
   "cell_type": "code",
   "execution_count": 88,
   "metadata": {},
   "outputs": [
    {
     "data": {
      "text/plain": [
       "<matplotlib.axes._subplots.AxesSubplot at 0x7f170e358358>"
      ]
     },
     "execution_count": 88,
     "metadata": {},
     "output_type": "execute_result"
    },
    {
     "data": {
      "image/png": "[encoded data removed]",
      "text/plain": [
       "<Figure size 432x288 with 1 Axes>"
      ]
     },
     "metadata": {
      "needs_background": "light"
     },
     "output_type": "display_data"
    }
   ],
   "source": [
    "df.PrimaryCategoryID.value_counts()[:10].plot(kind='bar')"
   ]
  },
  {
   "cell_type": "code",
   "execution_count": 89,
   "metadata": {},
   "outputs": [],
   "source": [
    "DFxl = df[[\"value\",\"_currencyID\",\"ViewItemURLForNaturalSearch\",\"Title\",\"PrimaryCategoryID\",\"Country\",\"Description\"]].reset_index()\n",
    "images = [os.path.join(dp, f) for dp, dn, filenames in os.walk(\"/home/kelu/ultrasound/ebaystrove/images/\") for f in filenames if os.path.splitext(f)[1] == '.jpg']\n",
    "imagesID = [x.split(\".\")[-2].split(\"/\")[-1] for x in images]\n",
    "LIMIT = len('/home/kelu/ultrasound/ebaystrove/images/233384138652.jpg')\n",
    "L = len(\"/home/kelu/ultrasound/ebaystrove/images/\")\n",
    "DFxl[\"group\"] = \"None\"\n",
    "for k in images:\n",
    "    if len(k) > (LIMIT + 1):\n",
    "        ID = k.split(\"/\")[-1].split(\".\")[-2]\n",
    "        DFxl[\"group\"].loc[DFxl.ItemID == ID] = k.split(\"/\")[-2]\n",
    "DFxlNone = DFxl[(DFxl.group == \"None\")].reset_index().drop(['index'], axis=1)\n",
    "DFxl = DFxl[~(DFxl.group == \"None\")].reset_index().drop(['index'], axis=1)"
   ]
  },
  {
   "cell_type": "code",
   "execution_count": 90,
   "metadata": {},
   "outputs": [
    {
     "name": "stdout",
     "output_type": "stream",
     "text": [
      "4907\n"
     ]
    },
    {
     "data": {
      "text/html": [
       "<div>\n",
       "<style scoped>\n",
       "    .dataframe tbody tr th:only-of-type {\n",
       "        vertical-align: middle;\n",
       "    }\n",
       "\n",
       "    .dataframe tbody tr th {\n",
       "        vertical-align: top;\n",
       "    }\n",
       "\n",
       "    .dataframe thead th {\n",
       "        text-align: right;\n",
       "    }\n",
       "</style>\n",
       "<table border=\"1\" class=\"dataframe\">\n",
       "  <thead>\n",
       "    <tr style=\"text-align: right;\">\n",
       "      <th></th>\n",
       "      <th>ItemID</th>\n",
       "      <th>value</th>\n",
       "      <th>_currencyID</th>\n",
       "      <th>ViewItemURLForNaturalSearch</th>\n",
       "      <th>Title</th>\n",
       "      <th>PrimaryCategoryID</th>\n",
       "      <th>Country</th>\n",
       "      <th>Description</th>\n",
       "      <th>group</th>\n",
       "    </tr>\n",
       "  </thead>\n",
       "  <tbody>\n",
       "    <tr>\n",
       "      <th>0</th>\n",
       "      <td>132529667929</td>\n",
       "      <td>164.77</td>\n",
       "      <td>USD</td>\n",
       "      <td>https://www.ebay.com/itm/Philips-ATL-Dio-Stift...</td>\n",
       "      <td>Philips ATL Dio Stiftsonde CW Doppler Pencil P...</td>\n",
       "      <td>71927</td>\n",
       "      <td>DE</td>\n",
       "      <td>Philips ATL Dio Stiftsonde CW 3.2 MM  ...</td>\n",
       "      <td>MechProbe</td>\n",
       "    </tr>\n",
       "    <tr>\n",
       "      <th>1</th>\n",
       "      <td>112314171710</td>\n",
       "      <td>326.79</td>\n",
       "      <td>USD</td>\n",
       "      <td>https://www.ebay.com/itm/Kretz-Endovaginal-5-0...</td>\n",
       "      <td>Kretz Endovaginal 5.0 MHz  E.V 48 HD Ultrascha...</td>\n",
       "      <td>71927</td>\n",
       "      <td>DE</td>\n",
       "      <td>Kretz Endovaginalsonde 5.0 MHz, Typ: E. V 48 H...</td>\n",
       "      <td>Array</td>\n",
       "    </tr>\n",
       "    <tr>\n",
       "      <th>2</th>\n",
       "      <td>372840599500</td>\n",
       "      <td>24.92</td>\n",
       "      <td>USD</td>\n",
       "      <td>https://www.ebay.com/itm/MOSKVICH-21412-1-6-80...</td>\n",
       "      <td>FOR MOSKVICH 21412 1.6 80HP -97 NEW GATES THER...</td>\n",
       "      <td>63711</td>\n",
       "      <td>GB</td>\n",
       "      <td>A to Z Motor Spares (Wakefield)   Step1. C...</td>\n",
       "      <td>NotUS</td>\n",
       "    </tr>\n",
       "    <tr>\n",
       "      <th>3</th>\n",
       "      <td>324091756506</td>\n",
       "      <td>1745.82</td>\n",
       "      <td>USD</td>\n",
       "      <td>https://www.ebay.com/itm/GE-546L-Ultrasound-Pr...</td>\n",
       "      <td>GE 546L Ultrasound Probe / Transducer</td>\n",
       "      <td>184515</td>\n",
       "      <td>US</td>\n",
       "      <td>546L transducerCompatible SystemsGE 546L line...</td>\n",
       "      <td>Array</td>\n",
       "    </tr>\n",
       "    <tr>\n",
       "      <th>4</th>\n",
       "      <td>173300186560</td>\n",
       "      <td>19.25</td>\n",
       "      <td>USD</td>\n",
       "      <td>https://www.ebay.com/itm/Comline-Front-Right-S...</td>\n",
       "      <td>Comline Front Right Stabiliser Link Bar CSL604...</td>\n",
       "      <td>33592</td>\n",
       "      <td>GB</td>\n",
       "      <td>Comline Stabiliser Link BarIn order to check t...</td>\n",
       "      <td>NotUS</td>\n",
       "    </tr>\n",
       "  </tbody>\n",
       "</table>\n",
       "</div>"
      ],
      "text/plain": [
       "         ItemID    value _currencyID  \\\n",
       "0  132529667929   164.77         USD   \n",
       "1  112314171710   326.79         USD   \n",
       "2  372840599500    24.92         USD   \n",
       "3  324091756506  1745.82         USD   \n",
       "4  173300186560    19.25         USD   \n",
       "\n",
       "                         ViewItemURLForNaturalSearch  \\\n",
       "0  https://www.ebay.com/itm/Philips-ATL-Dio-Stift...   \n",
       "1  https://www.ebay.com/itm/Kretz-Endovaginal-5-0...   \n",
       "2  https://www.ebay.com/itm/MOSKVICH-21412-1-6-80...   \n",
       "3  https://www.ebay.com/itm/GE-546L-Ultrasound-Pr...   \n",
       "4  https://www.ebay.com/itm/Comline-Front-Right-S...   \n",
       "\n",
       "                                               Title PrimaryCategoryID  \\\n",
       "0  Philips ATL Dio Stiftsonde CW Doppler Pencil P...             71927   \n",
       "1  Kretz Endovaginal 5.0 MHz  E.V 48 HD Ultrascha...             71927   \n",
       "2  FOR MOSKVICH 21412 1.6 80HP -97 NEW GATES THER...             63711   \n",
       "3              GE 546L Ultrasound Probe / Transducer            184515   \n",
       "4  Comline Front Right Stabiliser Link Bar CSL604...             33592   \n",
       "\n",
       "  Country                                        Description      group  \n",
       "0      DE          Philips ATL Dio Stiftsonde CW 3.2 MM  ...  MechProbe  \n",
       "1      DE  Kretz Endovaginalsonde 5.0 MHz, Typ: E. V 48 H...      Array  \n",
       "2      GB      A to Z Motor Spares (Wakefield)   Step1. C...      NotUS  \n",
       "3      US   546L transducerCompatible SystemsGE 546L line...      Array  \n",
       "4      GB  Comline Stabiliser Link BarIn order to check t...      NotUS  "
      ]
     },
     "execution_count": 90,
     "metadata": {},
     "output_type": "execute_result"
    }
   ],
   "source": [
    "print(len(DFxl))\n",
    "DFxl.head()"
   ]
  },
  {
   "cell_type": "code",
   "execution_count": 91,
   "metadata": {},
   "outputs": [],
   "source": [
    "DFxl.to_excel(\"learning.xlsx\", sheet_name='learning') \n"
   ]
  },
  {
   "cell_type": "code",
   "execution_count": 92,
   "metadata": {},
   "outputs": [],
   "source": [
    "import pickle \n",
    "with open('Pickles/DFNONE.pickle', 'wb') as output:\n",
    "    pickle.dump(DFxlNone, output)"
   ]
  },
  {
   "cell_type": "code",
   "execution_count": 93,
   "metadata": {},
   "outputs": [
    {
     "data": {
      "text/html": [
       "<div>\n",
       "<style scoped>\n",
       "    .dataframe tbody tr th:only-of-type {\n",
       "        vertical-align: middle;\n",
       "    }\n",
       "\n",
       "    .dataframe tbody tr th {\n",
       "        vertical-align: top;\n",
       "    }\n",
       "\n",
       "    .dataframe thead th {\n",
       "        text-align: right;\n",
       "    }\n",
       "</style>\n",
       "<table border=\"1\" class=\"dataframe\">\n",
       "  <thead>\n",
       "    <tr style=\"text-align: right;\">\n",
       "      <th></th>\n",
       "      <th>ItemID</th>\n",
       "      <th>value</th>\n",
       "      <th>_currencyID</th>\n",
       "      <th>ViewItemURLForNaturalSearch</th>\n",
       "      <th>Title</th>\n",
       "      <th>PrimaryCategoryID</th>\n",
       "      <th>Country</th>\n",
       "      <th>Description</th>\n",
       "      <th>group</th>\n",
       "    </tr>\n",
       "  </thead>\n",
       "  <tbody>\n",
       "    <tr>\n",
       "      <th>0</th>\n",
       "      <td>383457623371</td>\n",
       "      <td>1250.0</td>\n",
       "      <td>USD</td>\n",
       "      <td>https://www.ebay.com/itm/PHILIPS-3D9-3V-ULTRAS...</td>\n",
       "      <td>PHILIPS 3D9-3V ULTRASOUND TRANSDUCER PROBE</td>\n",
       "      <td>184515</td>\n",
       "      <td>US</td>\n",
       "      <td>PHILIPS 3D9-3V ULTRASOUND TRANSDUCER PROBE. Co...</td>\n",
       "      <td>None</td>\n",
       "    </tr>\n",
       "    <tr>\n",
       "      <th>1</th>\n",
       "      <td>392584673255</td>\n",
       "      <td>399.0</td>\n",
       "      <td>USD</td>\n",
       "      <td>https://www.ebay.com/itm/MCube-CubeScan-Cube-S...</td>\n",
       "      <td>MCube CubeScan Cube Scan BioCon-700 Bladder Sc...</td>\n",
       "      <td>3179</td>\n",
       "      <td>US</td>\n",
       "      <td>MCube CubeScan Cube Scan BioCon-700 Bladder Sc...</td>\n",
       "      <td>None</td>\n",
       "    </tr>\n",
       "    <tr>\n",
       "      <th>2</th>\n",
       "      <td>383457629497</td>\n",
       "      <td>115.0</td>\n",
       "      <td>USD</td>\n",
       "      <td>https://www.ebay.com/itm/Acuson-8V5-Ultrasound...</td>\n",
       "      <td>Acuson 8V5 Ultrasound/Transducer Probe ~ with ...</td>\n",
       "      <td>181961</td>\n",
       "      <td>US</td>\n",
       "      <td>Acuson 8V5 Ultrasound/Transducer Probe ~ with ...</td>\n",
       "      <td>None</td>\n",
       "    </tr>\n",
       "    <tr>\n",
       "      <th>3</th>\n",
       "      <td>254459167401</td>\n",
       "      <td>1999.0</td>\n",
       "      <td>USD</td>\n",
       "      <td>https://www.ebay.com/itm/Olympus-Sonic-1200S-U...</td>\n",
       "      <td>Olympus Sonic 1200S Ultrasonic Flaw Detector -...</td>\n",
       "      <td>181989</td>\n",
       "      <td>US</td>\n",
       "      <td>Ultrasonic Flaw DetectorStock #191108NIncluded...</td>\n",
       "      <td>None</td>\n",
       "    </tr>\n",
       "    <tr>\n",
       "      <th>4</th>\n",
       "      <td>223943552530</td>\n",
       "      <td>802.0</td>\n",
       "      <td>USD</td>\n",
       "      <td>https://www.ebay.com/itm/Seimen-7CF2-Ultrasoun...</td>\n",
       "      <td>Seimen 7CF2 Ultrasound Transducer Probe</td>\n",
       "      <td>184515</td>\n",
       "      <td>US</td>\n",
       "      <td>Cosmatically it is good .,meet and clean.but I...</td>\n",
       "      <td>None</td>\n",
       "    </tr>\n",
       "    <tr>\n",
       "      <th>...</th>\n",
       "      <td>...</td>\n",
       "      <td>...</td>\n",
       "      <td>...</td>\n",
       "      <td>...</td>\n",
       "      <td>...</td>\n",
       "      <td>...</td>\n",
       "      <td>...</td>\n",
       "      <td>...</td>\n",
       "      <td>...</td>\n",
       "    </tr>\n",
       "    <tr>\n",
       "      <th>1098</th>\n",
       "      <td>274218688389</td>\n",
       "      <td>350.0</td>\n",
       "      <td>USD</td>\n",
       "      <td>https://www.ebay.com/itm/Aloka-SSD-a5-Ultrasou...</td>\n",
       "      <td>Aloka SSD-a5 Ultrasound Probe Board EP451000DG...</td>\n",
       "      <td>184542</td>\n",
       "      <td>US</td>\n",
       "      <td>Home About Us Feedback View all listing...</td>\n",
       "      <td>None</td>\n",
       "    </tr>\n",
       "    <tr>\n",
       "      <th>1099</th>\n",
       "      <td>172578707455</td>\n",
       "      <td>75.0</td>\n",
       "      <td>USD</td>\n",
       "      <td>https://www.ebay.com/itm/Hitachi-SDEL-1-CU4096...</td>\n",
       "      <td>Hitachi SDEL-1 CU4096 Module For Hitachi EZU-M...</td>\n",
       "      <td>184542</td>\n",
       "      <td>US</td>\n",
       "      <td>281 South Road, Route 107Kensington, N...</td>\n",
       "      <td>None</td>\n",
       "    </tr>\n",
       "    <tr>\n",
       "      <th>1100</th>\n",
       "      <td>283802108150</td>\n",
       "      <td>1079.1</td>\n",
       "      <td>USD</td>\n",
       "      <td>https://www.ebay.com/itm/Verathon-BladderScan-...</td>\n",
       "      <td>Verathon BladderScan 0570-0347 Ultrasound Prob...</td>\n",
       "      <td>184515</td>\n",
       "      <td>US</td>\n",
       "      <td>Verathon BladderScan Ultrasound Probe. 0570-03...</td>\n",
       "      <td>None</td>\n",
       "    </tr>\n",
       "    <tr>\n",
       "      <th>1101</th>\n",
       "      <td>274278073840</td>\n",
       "      <td>740.21</td>\n",
       "      <td>USD</td>\n",
       "      <td>https://www.ebay.com/itm/Aloka-Ultrasound-Boar...</td>\n",
       "      <td>Aloka Ultrasound Board EP525400CC</td>\n",
       "      <td>184542</td>\n",
       "      <td>IL</td>\n",
       "      <td>Aloka Ultrasound Board EP525400CCWe pride ours...</td>\n",
       "      <td>None</td>\n",
       "    </tr>\n",
       "    <tr>\n",
       "      <th>1102</th>\n",
       "      <td>264362966129</td>\n",
       "      <td>1580.0</td>\n",
       "      <td>USD</td>\n",
       "      <td>https://www.ebay.com/itm/Hitachi-EUP-C514-comp...</td>\n",
       "      <td>Hitachi EUP-C514 compatible ultrasound probe E...</td>\n",
       "      <td>3149</td>\n",
       "      <td>CN</td>\n",
       "      <td>new condition.12 months warrantyIf you need ot...</td>\n",
       "      <td>None</td>\n",
       "    </tr>\n",
       "  </tbody>\n",
       "</table>\n",
       "<p>1103 rows × 9 columns</p>\n",
       "</div>"
      ],
      "text/plain": [
       "            ItemID   value _currencyID  \\\n",
       "0     383457623371  1250.0         USD   \n",
       "1     392584673255   399.0         USD   \n",
       "2     383457629497   115.0         USD   \n",
       "3     254459167401  1999.0         USD   \n",
       "4     223943552530   802.0         USD   \n",
       "...            ...     ...         ...   \n",
       "1098  274218688389   350.0         USD   \n",
       "1099  172578707455    75.0         USD   \n",
       "1100  283802108150  1079.1         USD   \n",
       "1101  274278073840  740.21         USD   \n",
       "1102  264362966129  1580.0         USD   \n",
       "\n",
       "                            ViewItemURLForNaturalSearch  \\\n",
       "0     https://www.ebay.com/itm/PHILIPS-3D9-3V-ULTRAS...   \n",
       "1     https://www.ebay.com/itm/MCube-CubeScan-Cube-S...   \n",
       "2     https://www.ebay.com/itm/Acuson-8V5-Ultrasound...   \n",
       "3     https://www.ebay.com/itm/Olympus-Sonic-1200S-U...   \n",
       "4     https://www.ebay.com/itm/Seimen-7CF2-Ultrasoun...   \n",
       "...                                                 ...   \n",
       "1098  https://www.ebay.com/itm/Aloka-SSD-a5-Ultrasou...   \n",
       "1099  https://www.ebay.com/itm/Hitachi-SDEL-1-CU4096...   \n",
       "1100  https://www.ebay.com/itm/Verathon-BladderScan-...   \n",
       "1101  https://www.ebay.com/itm/Aloka-Ultrasound-Boar...   \n",
       "1102  https://www.ebay.com/itm/Hitachi-EUP-C514-comp...   \n",
       "\n",
       "                                                  Title PrimaryCategoryID  \\\n",
       "0            PHILIPS 3D9-3V ULTRASOUND TRANSDUCER PROBE            184515   \n",
       "1     MCube CubeScan Cube Scan BioCon-700 Bladder Sc...              3179   \n",
       "2     Acuson 8V5 Ultrasound/Transducer Probe ~ with ...            181961   \n",
       "3     Olympus Sonic 1200S Ultrasonic Flaw Detector -...            181989   \n",
       "4               Seimen 7CF2 Ultrasound Transducer Probe            184515   \n",
       "...                                                 ...               ...   \n",
       "1098  Aloka SSD-a5 Ultrasound Probe Board EP451000DG...            184542   \n",
       "1099  Hitachi SDEL-1 CU4096 Module For Hitachi EZU-M...            184542   \n",
       "1100  Verathon BladderScan 0570-0347 Ultrasound Prob...            184515   \n",
       "1101                  Aloka Ultrasound Board EP525400CC            184542   \n",
       "1102  Hitachi EUP-C514 compatible ultrasound probe E...              3149   \n",
       "\n",
       "     Country                                        Description group  \n",
       "0         US  PHILIPS 3D9-3V ULTRASOUND TRANSDUCER PROBE. Co...  None  \n",
       "1         US  MCube CubeScan Cube Scan BioCon-700 Bladder Sc...  None  \n",
       "2         US  Acuson 8V5 Ultrasound/Transducer Probe ~ with ...  None  \n",
       "3         US  Ultrasonic Flaw DetectorStock #191108NIncluded...  None  \n",
       "4         US  Cosmatically it is good .,meet and clean.but I...  None  \n",
       "...      ...                                                ...   ...  \n",
       "1098      US         Home About Us Feedback View all listing...  None  \n",
       "1099      US          281 South Road, Route 107Kensington, N...  None  \n",
       "1100      US  Verathon BladderScan Ultrasound Probe. 0570-03...  None  \n",
       "1101      IL  Aloka Ultrasound Board EP525400CCWe pride ours...  None  \n",
       "1102      CN  new condition.12 months warrantyIf you need ot...  None  \n",
       "\n",
       "[1103 rows x 9 columns]"
      ]
     },
     "execution_count": 93,
     "metadata": {},
     "output_type": "execute_result"
    }
   ],
   "source": [
    "DFxlNone"
   ]
  },
  {
   "cell_type": "code",
   "execution_count": null,
   "metadata": {},
   "outputs": [],
   "source": []
  }
 ],
 "metadata": {
  "kernelspec": {
   "display_name": "Python 3",
   "language": "python",
   "name": "python3"
  },
  "language_info": {
   "codemirror_mode": {
    "name": "ipython",
    "version": 3
   },
   "file_extension": ".py",
   "mimetype": "text/x-python",
   "name": "python",
   "nbconvert_exporter": "python",
   "pygments_lexer": "ipython3",
   "version": "3.6.9"
  }
 },
 "nbformat": 4,
 "nbformat_minor": 4
}
