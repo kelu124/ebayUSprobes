{
 "cells": [
  {
   "cell_type": "code",
   "execution_count": 2,
   "metadata": {},
   "outputs": [],
   "source": [
    "import pandas as pd\n",
    "from pathlib import Path\n",
    "import glob, os\n",
    "import os.path\n",
    "\n",
    "# https://github.com/pemagrg1/text-classification"
   ]
  },
  {
   "cell_type": "code",
   "execution_count": 3,
   "metadata": {},
   "outputs": [
    {
     "name": "stdout",
     "output_type": "stream",
     "text": [
      "3981  elements\n"
     ]
    }
   ],
   "source": [
    "df = pd.read_pickle(\"./compilation_clean.pkl\")\n",
    "print(len(df),\" elements\")"
   ]
  },
  {
   "cell_type": "code",
   "execution_count": 4,
   "metadata": {},
   "outputs": [
    {
     "data": {
      "text/plain": [
       "<matplotlib.axes._subplots.AxesSubplot at 0x7fd0e1f20f98>"
      ]
     },
     "execution_count": 4,
     "metadata": {},
     "output_type": "execute_result"
    },
    {
     "data": {
      "image/png": "[encoded data removed]",
      "text/plain": [
       "<Figure size 432x288 with 1 Axes>"
      ]
     },
     "metadata": {
      "needs_background": "light"
     },
     "output_type": "display_data"
    }
   ],
   "source": [
    "df.Country.value_counts().plot(kind='bar')"
   ]
  },
  {
   "cell_type": "code",
   "execution_count": 5,
   "metadata": {},
   "outputs": [
    {
     "data": {
      "text/plain": [
       "<matplotlib.axes._subplots.AxesSubplot at 0x7fd0dfe606d8>"
      ]
     },
     "execution_count": 5,
     "metadata": {},
     "output_type": "execute_result"
    },
    {
     "data": {
      "image/png": "[encoded data removed]",
      "text/plain": [
       "<Figure size 432x288 with 1 Axes>"
      ]
     },
     "metadata": {
      "needs_background": "light"
     },
     "output_type": "display_data"
    }
   ],
   "source": [
    "df.value.value_counts().hist()"
   ]
  },
  {
   "cell_type": "code",
   "execution_count": 6,
   "metadata": {},
   "outputs": [
    {
     "data": {
      "text/plain": [
       "<matplotlib.axes._subplots.AxesSubplot at 0x7fd0df8e7208>"
      ]
     },
     "execution_count": 6,
     "metadata": {},
     "output_type": "execute_result"
    },
    {
     "data": {
      "image/png": "[encoded data removed]",
      "text/plain": [
       "<Figure size 432x288 with 1 Axes>"
      ]
     },
     "metadata": {
      "needs_background": "light"
     },
     "output_type": "display_data"
    }
   ],
   "source": [
    "df.PrimaryCategoryID.value_counts()[:10].plot(kind='bar')"
   ]
  },
  {
   "cell_type": "code",
   "execution_count": 7,
   "metadata": {},
   "outputs": [],
   "source": [
    "DFxl = df[[\"value\",\"_currencyID\",\"ViewItemURLForNaturalSearch\",\"Title\",\"PrimaryCategoryID\",\"Country\",\"Description\"]].reset_index()\n",
    "images = [os.path.join(dp, f) for dp, dn, filenames in os.walk(\"/home/kelu/ultrasound/ebaystrove/images/\") for f in filenames if os.path.splitext(f)[1] == '.jpg']\n",
    "imagesID = [x.split(\".\")[-2].split(\"/\")[-1] for x in images]\n",
    "LIMIT = len('/home/kelu/ultrasound/ebaystrove/images/233384138652.jpg')\n",
    "L = len(\"/home/kelu/ultrasound/ebaystrove/images/\")\n",
    "DFxl[\"group\"] = \"None\"\n",
    "for k in images:\n",
    "    if len(k) > (LIMIT + 1):\n",
    "        ID = k.split(\"/\")[-1].split(\".\")[-2]\n",
    "        DFxl[\"group\"].loc[DFxl.ItemID == ID] = k.split(\"/\")[-2]"
   ]
  },
  {
   "cell_type": "code",
   "execution_count": 8,
   "metadata": {},
   "outputs": [
    {
     "data": {
      "text/html": [
       "<div>\n",
       "<style scoped>\n",
       "    .dataframe tbody tr th:only-of-type {\n",
       "        vertical-align: middle;\n",
       "    }\n",
       "\n",
       "    .dataframe tbody tr th {\n",
       "        vertical-align: top;\n",
       "    }\n",
       "\n",
       "    .dataframe thead th {\n",
       "        text-align: right;\n",
       "    }\n",
       "</style>\n",
       "<table border=\"1\" class=\"dataframe\">\n",
       "  <thead>\n",
       "    <tr style=\"text-align: right;\">\n",
       "      <th></th>\n",
       "      <th>ItemID</th>\n",
       "      <th>value</th>\n",
       "      <th>_currencyID</th>\n",
       "      <th>ViewItemURLForNaturalSearch</th>\n",
       "      <th>Title</th>\n",
       "      <th>PrimaryCategoryID</th>\n",
       "      <th>Country</th>\n",
       "      <th>Description</th>\n",
       "      <th>group</th>\n",
       "    </tr>\n",
       "  </thead>\n",
       "  <tbody>\n",
       "    <tr>\n",
       "      <th>0</th>\n",
       "      <td>132529667929</td>\n",
       "      <td>164.77</td>\n",
       "      <td>USD</td>\n",
       "      <td>https://www.ebay.com/itm/Philips-ATL-Dio-Stift...</td>\n",
       "      <td>Philips ATL Dio Stiftsonde CW Doppler Pencil P...</td>\n",
       "      <td>71927</td>\n",
       "      <td>DE</td>\n",
       "      <td>Philips ATL Dio Stiftsonde CW 3.2 MM  ...</td>\n",
       "      <td>MechProbe</td>\n",
       "    </tr>\n",
       "    <tr>\n",
       "      <th>1</th>\n",
       "      <td>112314171710</td>\n",
       "      <td>326.79</td>\n",
       "      <td>USD</td>\n",
       "      <td>https://www.ebay.com/itm/Kretz-Endovaginal-5-0...</td>\n",
       "      <td>Kretz Endovaginal 5.0 MHz  E.V 48 HD Ultrascha...</td>\n",
       "      <td>71927</td>\n",
       "      <td>DE</td>\n",
       "      <td>Kretz Endovaginalsonde 5.0 MHz, Typ: E. V 48 H...</td>\n",
       "      <td>Array</td>\n",
       "    </tr>\n",
       "    <tr>\n",
       "      <th>2</th>\n",
       "      <td>372840599500</td>\n",
       "      <td>24.92</td>\n",
       "      <td>USD</td>\n",
       "      <td>https://www.ebay.com/itm/MOSKVICH-21412-1-6-80...</td>\n",
       "      <td>FOR MOSKVICH 21412 1.6 80HP -97 NEW GATES THER...</td>\n",
       "      <td>63711</td>\n",
       "      <td>GB</td>\n",
       "      <td>A to Z Motor Spares (Wakefield)   Step1. C...</td>\n",
       "      <td>NotUS</td>\n",
       "    </tr>\n",
       "    <tr>\n",
       "      <th>3</th>\n",
       "      <td>324091756506</td>\n",
       "      <td>1745.82</td>\n",
       "      <td>USD</td>\n",
       "      <td>https://www.ebay.com/itm/GE-546L-Ultrasound-Pr...</td>\n",
       "      <td>GE 546L Ultrasound Probe / Transducer</td>\n",
       "      <td>184515</td>\n",
       "      <td>US</td>\n",
       "      <td>546L transducerCompatible SystemsGE 546L line...</td>\n",
       "      <td>Array</td>\n",
       "    </tr>\n",
       "    <tr>\n",
       "      <th>4</th>\n",
       "      <td>173300186560</td>\n",
       "      <td>19.25</td>\n",
       "      <td>USD</td>\n",
       "      <td>https://www.ebay.com/itm/Comline-Front-Right-S...</td>\n",
       "      <td>Comline Front Right Stabiliser Link Bar CSL604...</td>\n",
       "      <td>33592</td>\n",
       "      <td>GB</td>\n",
       "      <td>Comline Stabiliser Link BarIn order to check t...</td>\n",
       "      <td>NotUS</td>\n",
       "    </tr>\n",
       "  </tbody>\n",
       "</table>\n",
       "</div>"
      ],
      "text/plain": [
       "         ItemID    value _currencyID  \\\n",
       "0  132529667929   164.77         USD   \n",
       "1  112314171710   326.79         USD   \n",
       "2  372840599500    24.92         USD   \n",
       "3  324091756506  1745.82         USD   \n",
       "4  173300186560    19.25         USD   \n",
       "\n",
       "                         ViewItemURLForNaturalSearch  \\\n",
       "0  https://www.ebay.com/itm/Philips-ATL-Dio-Stift...   \n",
       "1  https://www.ebay.com/itm/Kretz-Endovaginal-5-0...   \n",
       "2  https://www.ebay.com/itm/MOSKVICH-21412-1-6-80...   \n",
       "3  https://www.ebay.com/itm/GE-546L-Ultrasound-Pr...   \n",
       "4  https://www.ebay.com/itm/Comline-Front-Right-S...   \n",
       "\n",
       "                                               Title PrimaryCategoryID  \\\n",
       "0  Philips ATL Dio Stiftsonde CW Doppler Pencil P...             71927   \n",
       "1  Kretz Endovaginal 5.0 MHz  E.V 48 HD Ultrascha...             71927   \n",
       "2  FOR MOSKVICH 21412 1.6 80HP -97 NEW GATES THER...             63711   \n",
       "3              GE 546L Ultrasound Probe / Transducer            184515   \n",
       "4  Comline Front Right Stabiliser Link Bar CSL604...             33592   \n",
       "\n",
       "  Country                                        Description      group  \n",
       "0      DE          Philips ATL Dio Stiftsonde CW 3.2 MM  ...  MechProbe  \n",
       "1      DE  Kretz Endovaginalsonde 5.0 MHz, Typ: E. V 48 H...      Array  \n",
       "2      GB      A to Z Motor Spares (Wakefield)   Step1. C...      NotUS  \n",
       "3      US   546L transducerCompatible SystemsGE 546L line...      Array  \n",
       "4      GB  Comline Stabiliser Link BarIn order to check t...      NotUS  "
      ]
     },
     "execution_count": 8,
     "metadata": {},
     "output_type": "execute_result"
    }
   ],
   "source": [
    "DFxl.head()"
   ]
  },
  {
   "cell_type": "code",
   "execution_count": 9,
   "metadata": {},
   "outputs": [],
   "source": [
    "DFxl.to_excel(\"learning.xlsx\", sheet_name='learning') "
   ]
  },
  {
   "cell_type": "code",
   "execution_count": null,
   "metadata": {},
   "outputs": [],
   "source": []
  }
 ],
 "metadata": {
  "kernelspec": {
   "display_name": "Python 3",
   "language": "python",
   "name": "python3"
  },
  "language_info": {
   "codemirror_mode": {
    "name": "ipython",
    "version": 3
   },
   "file_extension": ".py",
   "mimetype": "text/x-python",
   "name": "python",
   "nbconvert_exporter": "python",
   "pygments_lexer": "ipython3",
   "version": "3.6.9"
  }
 },
 "nbformat": 4,
 "nbformat_minor": 4
}
